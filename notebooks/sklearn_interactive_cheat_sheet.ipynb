{
  "nbformat": 4,
  "nbformat_minor": 0,
  "metadata": {
    "colab": {
      "name": "sklearn_interactive_cheat_sheet.ipynb",
      "provenance": [],
      "collapsed_sections": [
        "cvKeCGWZXbFy",
        "PcMC_KW4XbIe",
        "0Jltkyh_Xq_K",
        "_k7YF3nCXbKi",
        "Ty1V6RndXbMl",
        "ljO56qMhXbRF",
        "_y8T6LlnXbTH"
      ]
    },
    "kernelspec": {
      "name": "python3",
      "display_name": "Python 3"
    },
    "language_info": {
      "name": "python"
    }
  },
  "cells": [
    {
      "cell_type": "markdown",
      "source": [
        "### Based on [Scikit-Learn cheat sheet](http://datacamp-community-prod.s3.amazonaws.com/eb807da5-dce5-4b97-a54d-74e89f14266b)"
      ],
      "metadata": {
        "id": "V25UPzLjUN77"
      }
    },
    {
      "cell_type": "code",
      "source": [
        "from sklearn.datasets import load_iris\n",
        "from sklearn.model_selection import train_test_split\n",
        "from sklearn.linear_model import LogisticRegression, LinearRegression\n",
        "from sklearn.svm import SVC\n",
        "from sklearn.naive_bayes import GaussianNB\n",
        "from sklearn.neighbors import KNeighborsClassifier\n",
        "from sklearn.decomposition import PCA\n",
        "from sklearn.cluster import KMeans\n",
        "from sklearn.metrics import *\n",
        "from sklearn.model_selection import cross_val_score, GridSearchCV, RandomizedSearchCV\n",
        "from sklearn.preprocessing import *\n",
        "from sklearn.impute import SimpleImputer"
      ],
      "metadata": {
        "id": "UOAC1pC6Ip-y"
      },
      "execution_count": 88,
      "outputs": []
    },
    {
      "cell_type": "markdown",
      "source": [
        "## Loading data"
      ],
      "metadata": {
        "id": "cvKeCGWZXbFy"
      }
    },
    {
      "cell_type": "code",
      "source": [
        "# Load toy dataset\n",
        "iris_X, iris_y = load_iris(return_X_y=True)"
      ],
      "metadata": {
        "id": "ADUiFu0iIr1e"
      },
      "execution_count": 12,
      "outputs": []
    },
    {
      "cell_type": "code",
      "source": [
        "iris_X.shape # training features"
      ],
      "metadata": {
        "colab": {
          "base_uri": "https://localhost:8080/"
        },
        "id": "r2qacYQ4JXd5",
        "outputId": "2d27c5c6-c53f-4b68-d264-9707f48d9e6b"
      },
      "execution_count": 14,
      "outputs": [
        {
          "output_type": "execute_result",
          "data": {
            "text/plain": [
              "(150, 4)"
            ]
          },
          "metadata": {},
          "execution_count": 14
        }
      ]
    },
    {
      "cell_type": "code",
      "source": [
        "iris_y.shape # target labels"
      ],
      "metadata": {
        "colab": {
          "base_uri": "https://localhost:8080/"
        },
        "id": "9088A7IrJpSX",
        "outputId": "4cf1fcf1-d297-4966-b9c1-be4e49b85ef2"
      },
      "execution_count": 15,
      "outputs": [
        {
          "output_type": "execute_result",
          "data": {
            "text/plain": [
              "(150,)"
            ]
          },
          "metadata": {},
          "execution_count": 15
        }
      ]
    },
    {
      "cell_type": "markdown",
      "source": [
        "## Data preprocessing"
      ],
      "metadata": {
        "id": "Al5aRQdRXbO-"
      }
    },
    {
      "cell_type": "code",
      "source": [
        "# Standardization\n",
        "scaler = StandardScaler().fit(X_train)\n",
        "X_std = scaler.transform(X_train)\n",
        "X_test_std = scaler.transform(X_test)"
      ],
      "metadata": {
        "id": "36pg8JW3UtWl"
      },
      "execution_count": 82,
      "outputs": []
    },
    {
      "cell_type": "code",
      "source": [
        "# Normalization\n",
        "normalizer = Normalizer().fit(X_train)\n",
        "X_norm = normalizer.transform(X_train)\n",
        "X_test_norm = normalizer.transform(X_test)"
      ],
      "metadata": {
        "id": "ukYWcq3bU-UO"
      },
      "execution_count": 83,
      "outputs": []
    },
    {
      "cell_type": "code",
      "source": [
        "# Binarization\n",
        "binarizer = Binarizer(threshold=0.0).fit(iris_X)\n",
        "X_bin = binarizer.transform(iris_X)"
      ],
      "metadata": {
        "id": "H-fuvW4_VIKW"
      },
      "execution_count": 85,
      "outputs": []
    },
    {
      "cell_type": "code",
      "source": [
        "# Label encoding\n",
        "enc = LabelEncoder()\n",
        "enc.fit_transform(iris_y)"
      ],
      "metadata": {
        "colab": {
          "base_uri": "https://localhost:8080/"
        },
        "id": "IpcLr3OAVRf6",
        "outputId": "3b2d0ffc-1127-45e0-8b2c-d6fef79976dd"
      },
      "execution_count": 86,
      "outputs": [
        {
          "output_type": "execute_result",
          "data": {
            "text/plain": [
              "array([0, 0, 0, 0, 0, 0, 0, 0, 0, 0, 0, 0, 0, 0, 0, 0, 0, 0, 0, 0, 0, 0,\n",
              "       0, 0, 0, 0, 0, 0, 0, 0, 0, 0, 0, 0, 0, 0, 0, 0, 0, 0, 0, 0, 0, 0,\n",
              "       0, 0, 0, 0, 0, 0, 1, 1, 1, 1, 1, 1, 1, 1, 1, 1, 1, 1, 1, 1, 1, 1,\n",
              "       1, 1, 1, 1, 1, 1, 1, 1, 1, 1, 1, 1, 1, 1, 1, 1, 1, 1, 1, 1, 1, 1,\n",
              "       1, 1, 1, 1, 1, 1, 1, 1, 1, 1, 1, 1, 2, 2, 2, 2, 2, 2, 2, 2, 2, 2,\n",
              "       2, 2, 2, 2, 2, 2, 2, 2, 2, 2, 2, 2, 2, 2, 2, 2, 2, 2, 2, 2, 2, 2,\n",
              "       2, 2, 2, 2, 2, 2, 2, 2, 2, 2, 2, 2, 2, 2, 2, 2, 2, 2])"
            ]
          },
          "metadata": {},
          "execution_count": 86
        }
      ]
    },
    {
      "cell_type": "code",
      "source": [
        "# Impute missing values\n",
        "imp = SimpleImputer(missing_values=0, strategy='mean')\n",
        "imp.fit_transform(X_train)"
      ],
      "metadata": {
        "id": "ztWgZ5-ZVY43"
      },
      "execution_count": null,
      "outputs": []
    },
    {
      "cell_type": "code",
      "source": [
        "# Generate polynomial features\n",
        "poly = PolynomialFeatures(degree=4)\n",
        "poly.fit_transform(X_train)"
      ],
      "metadata": {
        "id": "NLtpzwZBVpwO"
      },
      "execution_count": null,
      "outputs": []
    },
    {
      "cell_type": "markdown",
      "source": [
        "## Train-test splits"
      ],
      "metadata": {
        "id": "PcMC_KW4XbIe"
      }
    },
    {
      "cell_type": "code",
      "source": [
        "# Automatic train-test split\n",
        "X_train, X_test, y_train, y_test = train_test_split(iris_X, \n",
        "                                                    iris_y,\n",
        "                                                    train_size=0.8,\n",
        "                                                    test_size=0.2)"
      ],
      "metadata": {
        "id": "JLv76pL9JzHr"
      },
      "execution_count": 17,
      "outputs": []
    },
    {
      "cell_type": "markdown",
      "source": [
        "## Creating a model"
      ],
      "metadata": {
        "id": "0Jltkyh_Xq_K"
      }
    },
    {
      "cell_type": "code",
      "source": [
        "# Initialize supervised model: logistic regression\n",
        "logRegModel = LogisticRegression()"
      ],
      "metadata": {
        "id": "Kt2USUG8KMmd"
      },
      "execution_count": 19,
      "outputs": []
    },
    {
      "cell_type": "code",
      "source": [
        "# Initialize supervised model: linear regression\n",
        "linRegModel = LinearRegression()"
      ],
      "metadata": {
        "id": "LLAcg9YULF19"
      },
      "execution_count": 20,
      "outputs": []
    },
    {
      "cell_type": "code",
      "source": [
        "# Initialize supervised model: support vector machine\n",
        "svcModel = SVC(kernel='linear')"
      ],
      "metadata": {
        "id": "8aZlt1ZALKMR"
      },
      "execution_count": 21,
      "outputs": []
    },
    {
      "cell_type": "code",
      "source": [
        "# Initialize supervised model: naive Bayes\n",
        "gnbModel = GaussianNB()"
      ],
      "metadata": {
        "id": "geEAkWd0LQv2"
      },
      "execution_count": 22,
      "outputs": []
    },
    {
      "cell_type": "code",
      "source": [
        "# Initialize supervised model: K-nearest neighbors\n",
        "knn = KNeighborsClassifier(n_neighbors=6)"
      ],
      "metadata": {
        "id": "oVNjosy1LXSP"
      },
      "execution_count": 23,
      "outputs": []
    },
    {
      "cell_type": "code",
      "source": [
        "# Initialize unsupervised model: PCA\n",
        "pca = PCA(n_components=0.95)"
      ],
      "metadata": {
        "id": "onvtcpuwLeGT"
      },
      "execution_count": 24,
      "outputs": []
    },
    {
      "cell_type": "code",
      "source": [
        "# Initialize unsupervised model: K means\n",
        "kMeansModel = KMeans(n_clusters=4)"
      ],
      "metadata": {
        "id": "dKV0DWb3LjRx"
      },
      "execution_count": 25,
      "outputs": []
    },
    {
      "cell_type": "markdown",
      "source": [
        "## Basic model fitting"
      ],
      "metadata": {
        "id": "_k7YF3nCXbKi"
      }
    },
    {
      "cell_type": "code",
      "source": [
        "# Fit logistic regression model\n",
        "logRegModel.fit(X_train, y_train)"
      ],
      "metadata": {
        "colab": {
          "base_uri": "https://localhost:8080/"
        },
        "id": "BR0ajf5oLtrP",
        "outputId": "c7acf5d2-81e5-4761-d5f8-f18338802cf3"
      },
      "execution_count": 26,
      "outputs": [
        {
          "output_type": "execute_result",
          "data": {
            "text/plain": [
              "LogisticRegression()"
            ]
          },
          "metadata": {},
          "execution_count": 26
        }
      ]
    },
    {
      "cell_type": "code",
      "source": [
        "# Fit SVM\n",
        "svcModel.fit(X_train, y_train)"
      ],
      "metadata": {
        "colab": {
          "base_uri": "https://localhost:8080/"
        },
        "id": "qXSnvEZTL1eU",
        "outputId": "edddbb0a-b955-4da8-9ac5-c3d56037bef1"
      },
      "execution_count": 27,
      "outputs": [
        {
          "output_type": "execute_result",
          "data": {
            "text/plain": [
              "SVC(kernel='linear')"
            ]
          },
          "metadata": {},
          "execution_count": 27
        }
      ]
    },
    {
      "cell_type": "code",
      "source": [
        "# Fit KNN model\n",
        "knn.fit(X_train, y_train)"
      ],
      "metadata": {
        "colab": {
          "base_uri": "https://localhost:8080/"
        },
        "id": "fteue4E9L5Wo",
        "outputId": "6761387e-0b09-4ce0-9afc-7a060bb4baee"
      },
      "execution_count": 28,
      "outputs": [
        {
          "output_type": "execute_result",
          "data": {
            "text/plain": [
              "KNeighborsClassifier(n_neighbors=6)"
            ]
          },
          "metadata": {},
          "execution_count": 28
        }
      ]
    },
    {
      "cell_type": "code",
      "source": [
        "# Perform K-means clustering\n",
        "kMeansModel.fit(X_train)"
      ],
      "metadata": {
        "colab": {
          "base_uri": "https://localhost:8080/"
        },
        "id": "KlmXAJPpMEKe",
        "outputId": "7e6fa29b-f357-4759-faf1-fc328727452c"
      },
      "execution_count": 29,
      "outputs": [
        {
          "output_type": "execute_result",
          "data": {
            "text/plain": [
              "KMeans(n_clusters=4)"
            ]
          },
          "metadata": {},
          "execution_count": 29
        }
      ]
    },
    {
      "cell_type": "code",
      "source": [
        "# Perform PCA decomposition\n",
        "pca.fit_transform(X_train)"
      ],
      "metadata": {
        "id": "Hkkl3SeSMI92"
      },
      "execution_count": null,
      "outputs": []
    },
    {
      "cell_type": "markdown",
      "source": [
        "## Prediction"
      ],
      "metadata": {
        "id": "Ty1V6RndXbMl"
      }
    },
    {
      "cell_type": "code",
      "source": [
        "# Predict with logistic regression model\n",
        "y_pred_logreg = logRegModel.predict(X_test)"
      ],
      "metadata": {
        "id": "HcOcay3oMVT1"
      },
      "execution_count": 32,
      "outputs": []
    },
    {
      "cell_type": "code",
      "source": [
        "# Predict with SVM model\n",
        "y_pred_svc = svcModel.predict(X_test)"
      ],
      "metadata": {
        "id": "fJ7eiNhtMd7u"
      },
      "execution_count": 33,
      "outputs": []
    },
    {
      "cell_type": "code",
      "source": [
        "# Predict with KNN model\n",
        "y_pred_knn = knn.predict(X_test)"
      ],
      "metadata": {
        "id": "I6ftrsA8MkB-"
      },
      "execution_count": 34,
      "outputs": []
    },
    {
      "cell_type": "code",
      "source": [
        "# Predict with K-means model\n",
        "y_pred_Kmeans = kMeansModel.predict(X_test)"
      ],
      "metadata": {
        "id": "RPWleMgSMnqe"
      },
      "execution_count": 36,
      "outputs": []
    },
    {
      "cell_type": "markdown",
      "source": [
        "## Evaluation"
      ],
      "metadata": {
        "id": "ljO56qMhXbRF"
      }
    },
    {
      "cell_type": "code",
      "source": [
        "# Classification accuracy (estimator score)\n",
        "knn.score(X_test, y_test)"
      ],
      "metadata": {
        "colab": {
          "base_uri": "https://localhost:8080/"
        },
        "id": "kll285oUNBQo",
        "outputId": "dca24627-11ac-45f6-bf2d-16b0405c479c"
      },
      "execution_count": 38,
      "outputs": [
        {
          "output_type": "execute_result",
          "data": {
            "text/plain": [
              "0.9666666666666667"
            ]
          },
          "metadata": {},
          "execution_count": 38
        }
      ]
    },
    {
      "cell_type": "code",
      "source": [
        "# Classification accuracy (extrinsic scoring function)\n",
        "accuracy_score(y_test, y_pred_logreg)"
      ],
      "metadata": {
        "colab": {
          "base_uri": "https://localhost:8080/"
        },
        "id": "6SJCqr_pNed0",
        "outputId": "723bdc75-275f-4393-bda7-4620db25f773"
      },
      "execution_count": 39,
      "outputs": [
        {
          "output_type": "execute_result",
          "data": {
            "text/plain": [
              "0.9333333333333333"
            ]
          },
          "metadata": {},
          "execution_count": 39
        }
      ]
    },
    {
      "cell_type": "code",
      "source": [
        "# Classification report (precision, recall, F1-score)\n",
        "print(classification_report(y_test, y_pred_svc))"
      ],
      "metadata": {
        "colab": {
          "base_uri": "https://localhost:8080/"
        },
        "id": "2_nLmRZcNn2N",
        "outputId": "de8f4bf7-6a6e-4843-83cc-1dabc7b4acb7"
      },
      "execution_count": 41,
      "outputs": [
        {
          "output_type": "stream",
          "name": "stdout",
          "text": [
            "              precision    recall  f1-score   support\n",
            "\n",
            "           0       1.00      1.00      1.00         8\n",
            "           1       1.00      0.80      0.89        10\n",
            "           2       0.86      1.00      0.92        12\n",
            "\n",
            "    accuracy                           0.93        30\n",
            "   macro avg       0.95      0.93      0.94        30\n",
            "weighted avg       0.94      0.93      0.93        30\n",
            "\n"
          ]
        }
      ]
    },
    {
      "cell_type": "code",
      "source": [
        "# Confusion matrix\n",
        "print(confusion_matrix(y_test, y_pred_Kmeans))"
      ],
      "metadata": {
        "colab": {
          "base_uri": "https://localhost:8080/"
        },
        "id": "GNrqdulVOB-M",
        "outputId": "d3d506f1-dddd-4727-ebcb-a49d9b35b388"
      },
      "execution_count": 44,
      "outputs": [
        {
          "output_type": "stream",
          "name": "stdout",
          "text": [
            "[[0 8 0 0]\n",
            " [5 0 0 5]\n",
            " [0 0 5 7]\n",
            " [0 0 0 0]]\n"
          ]
        }
      ]
    },
    {
      "cell_type": "code",
      "source": [
        "# R^2 score\n",
        "r2_score(y_test, y_pred_logreg)"
      ],
      "metadata": {
        "colab": {
          "base_uri": "https://localhost:8080/"
        },
        "id": "92CGrCHOOOdp",
        "outputId": "fbc80f7a-4b16-4e36-ef3f-8c656a8ec81e"
      },
      "execution_count": 45,
      "outputs": [
        {
          "output_type": "execute_result",
          "data": {
            "text/plain": [
              "0.8972602739726028"
            ]
          },
          "metadata": {},
          "execution_count": 45
        }
      ]
    },
    {
      "cell_type": "code",
      "source": [
        "# Mean squared error (MSE)\n",
        "mean_squared_error(y_test, y_pred_knn)"
      ],
      "metadata": {
        "colab": {
          "base_uri": "https://localhost:8080/"
        },
        "id": "JikYpW3mOXft",
        "outputId": "ca86aa9f-2a54-4e80-bb1e-d1ce6c0e9596"
      },
      "execution_count": 46,
      "outputs": [
        {
          "output_type": "execute_result",
          "data": {
            "text/plain": [
              "0.03333333333333333"
            ]
          },
          "metadata": {},
          "execution_count": 46
        }
      ]
    },
    {
      "cell_type": "code",
      "source": [
        "# Mean absolute error\n",
        "mean_absolute_error(y_test, y_pred_svc)"
      ],
      "metadata": {
        "colab": {
          "base_uri": "https://localhost:8080/"
        },
        "id": "QhBgY8F8Odm6",
        "outputId": "965cbc44-068a-4b8b-e1c4-9d77e357fa46"
      },
      "execution_count": 48,
      "outputs": [
        {
          "output_type": "execute_result",
          "data": {
            "text/plain": [
              "0.06666666666666667"
            ]
          },
          "metadata": {},
          "execution_count": 48
        }
      ]
    },
    {
      "cell_type": "code",
      "source": [
        "# Cluster metric: adjusted Rand index\n",
        "adjusted_rand_score(y_test, y_pred_Kmeans)"
      ],
      "metadata": {
        "colab": {
          "base_uri": "https://localhost:8080/"
        },
        "id": "TLXuVWs_OnNm",
        "outputId": "dc5a2f41-3b98-4137-d123-b29c88dcfd31"
      },
      "execution_count": 49,
      "outputs": [
        {
          "output_type": "execute_result",
          "data": {
            "text/plain": [
              "0.47264652961218945"
            ]
          },
          "metadata": {},
          "execution_count": 49
        }
      ]
    },
    {
      "cell_type": "code",
      "source": [
        "# Cluster metric: homoegeneity\n",
        "homogeneity_score(y_test, y_pred_Kmeans)"
      ],
      "metadata": {
        "colab": {
          "base_uri": "https://localhost:8080/"
        },
        "id": "cw9iyM7pOtLV",
        "outputId": "f8babb2c-fb3b-42d6-f8f7-db437f7ef6a4"
      },
      "execution_count": 50,
      "outputs": [
        {
          "output_type": "execute_result",
          "data": {
            "text/plain": [
              "0.7496496893257496"
            ]
          },
          "metadata": {},
          "execution_count": 50
        }
      ]
    },
    {
      "cell_type": "code",
      "source": [
        "# Cluster metric: V-measure\n",
        "v_measure_score(y_test, y_pred_Kmeans)"
      ],
      "metadata": {
        "colab": {
          "base_uri": "https://localhost:8080/"
        },
        "id": "WgNu0SZFOyKl",
        "outputId": "d84aaeee-85ae-4b9c-e820-9ee0fc864857"
      },
      "execution_count": 51,
      "outputs": [
        {
          "output_type": "execute_result",
          "data": {
            "text/plain": [
              "0.6775234461889525"
            ]
          },
          "metadata": {},
          "execution_count": 51
        }
      ]
    },
    {
      "cell_type": "code",
      "source": [
        "# Cross-validation\n",
        "print(cross_val_score(logRegModel, X_train, y_train, cv=5))"
      ],
      "metadata": {
        "colab": {
          "base_uri": "https://localhost:8080/"
        },
        "id": "N9rfB-1hO38M",
        "outputId": "a24a733e-663d-40be-fbb9-7856b33d01d7"
      },
      "execution_count": 59,
      "outputs": [
        {
          "output_type": "stream",
          "name": "stdout",
          "text": [
            "[0.95833333 1.         1.         1.         0.91666667]\n"
          ]
        }
      ]
    },
    {
      "cell_type": "markdown",
      "source": [
        "## Hyperparameter tuning"
      ],
      "metadata": {
        "id": "_y8T6LlnXbTH"
      }
    },
    {
      "cell_type": "code",
      "source": [
        "# Grid search (with cross-validation)\n",
        "params = {'tol': [0.0001, 0.0002, 0.0005],\n",
        "          'C': [0.1, 0.8, 1],\n",
        "          'intercept_scaling': [1, 1.5]}\n",
        "grid = GridSearchCV(estimator=logRegModel,\n",
        "                    param_grid=params)\n",
        "grid.fit(X_train, y_train)\n",
        "print(f'Best score:', grid.best_score_)\n",
        "print(f'Best hyperparameters:', grid.best_estimator_)"
      ],
      "metadata": {
        "colab": {
          "base_uri": "https://localhost:8080/"
        },
        "id": "OZUhh2_XSBiE",
        "outputId": "d6f03441-6053-4cf7-f820-23ee2f3e6623"
      },
      "execution_count": 77,
      "outputs": [
        {
          "output_type": "stream",
          "name": "stdout",
          "text": [
            "Best score: 0.975\n",
            "Best hyperparameters: LogisticRegression(C=0.8)\n"
          ]
        }
      ]
    },
    {
      "cell_type": "code",
      "source": [
        "# Randomized parameter optimization (with cross-validation)\n",
        "rsearch = RandomizedSearchCV(estimator=logRegModel,\n",
        "                              param_distributions=params,\n",
        "                              cv=5,\n",
        "                              n_iter=10,\n",
        "                              random_state=12)\n",
        "rsearch.fit(X_train, y_train)\n",
        "print('Best score:', rsearch.best_score_)\n",
        "print('Best hyperparameters:', rsearch.best_estimator_)"
      ],
      "metadata": {
        "colab": {
          "base_uri": "https://localhost:8080/"
        },
        "id": "aEAhXdteS0Ap",
        "outputId": "ff84afc3-188a-4e91-d859-30882a8bdc1a"
      },
      "execution_count": 80,
      "outputs": [
        {
          "output_type": "stream",
          "name": "stdout",
          "text": [
            "Best score: 0.975\n",
            "Best hyperparameters: LogisticRegression(C=0.8, tol=0.0002)\n"
          ]
        }
      ]
    }
  ]
}