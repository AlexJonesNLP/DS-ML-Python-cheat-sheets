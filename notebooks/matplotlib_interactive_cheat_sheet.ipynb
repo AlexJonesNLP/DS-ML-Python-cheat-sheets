{
  "nbformat": 4,
  "nbformat_minor": 0,
  "metadata": {
    "colab": {
      "name": "matplotlib_interactive_cheat_sheet.ipynb",
      "provenance": [],
      "collapsed_sections": [
        "tQjWpvlnTa29",
        "p66NijqjVV9Q"
      ]
    },
    "kernelspec": {
      "name": "python3",
      "display_name": "Python 3"
    },
    "language_info": {
      "name": "python"
    }
  },
  "cells": [
    {
      "cell_type": "markdown",
      "source": [
        "### Based on [Matplotlib cheat sheet](http://datacamp-community-prod.s3.amazonaws.com/e1a8f39d-71ad-4d13-9a6b-618fe1b8c9e9)"
      ],
      "metadata": {
        "id": "tQjWpvlnTa29"
      }
    },
    {
      "cell_type": "code",
      "source": [
        "import matplotlib\n",
        "import matplotlib.pyplot as plt\n",
        "import numpy as np"
      ],
      "metadata": {
        "id": "VMbn6VbuII3f"
      },
      "execution_count": 4,
      "outputs": []
    },
    {
      "cell_type": "markdown",
      "source": [
        "## Data preparation"
      ],
      "metadata": {
        "id": "p66NijqjVV9Q"
      }
    },
    {
      "cell_type": "code",
      "source": [
        "# Create toy data\n",
        "data1D = np.linspace(0, 10, 100)\n",
        "data2D = np.random.random((5, 5))\n",
        "img = np.load(matplotlib.cbook.get_sample_data('axes_grid/bivariate_normal.npy')) # image"
      ],
      "metadata": {
        "id": "Qm7x1q8MIOnI"
      },
      "execution_count": 5,
      "outputs": []
    },
    {
      "cell_type": "markdown",
      "source": [
        "## Plotting"
      ],
      "metadata": {
        "id": "cNZH5zn6VWEw"
      }
    },
    {
      "cell_type": "code",
      "source": [
        "# Initialize figure\n",
        "fig = plt.figure()"
      ],
      "metadata": {
        "colab": {
          "base_uri": "https://localhost:8080/",
          "height": 34
        },
        "id": "53Al-xMFI0qL",
        "outputId": "60e128cd-c030-452a-9477-8417b0c60b7a"
      },
      "execution_count": 6,
      "outputs": [
        {
          "output_type": "display_data",
          "data": {
            "text/plain": [
              "<Figure size 432x288 with 0 Axes>"
            ]
          },
          "metadata": {}
        }
      ]
    },
    {
      "cell_type": "code",
      "source": [
        "# Add axes to figure\n",
        "fig.add_axes()\n",
        "ax1 = fig.add_subplot(221) # row-col-num\n",
        "ax2 = fig.add_subplot(212)\n",
        "fig2, axes = plt.subplots(nrows=2, ncols=2)\n",
        "fig3, axes2 = plt.subplots(ncols=3)"
      ],
      "metadata": {
        "colab": {
          "base_uri": "https://localhost:8080/",
          "height": 521
        },
        "id": "2xkEY8sgI4TS",
        "outputId": "b6f599c9-3a75-4c49-e2fa-85fb385e1ba4"
      },
      "execution_count": 7,
      "outputs": [
        {
          "output_type": "display_data",
          "data": {
            "image/png": "[encoded data removed]",
            "text/plain": [
              "<Figure size 432x288 with 4 Axes>"
            ]
          },
          "metadata": {
            "needs_background": "light"
          }
        },
        {
          "output_type": "display_data",
          "data": {
            "image/png": "[encoded data removed]",
            "text/plain": [
              "<Figure size 432x288 with 3 Axes>"
            ]
          },
          "metadata": {
            "needs_background": "light"
          }
        }
      ]
    },
    {
      "cell_type": "markdown",
      "source": [
        "## Plot routines"
      ],
      "metadata": {
        "id": "ORIKziFhVWMu"
      }
    },
    {
      "cell_type": "code",
      "source": [
        "# 1D data: plot basic curves\n",
        "fig, ax = plt.subplots()\n",
        "x,y = np.linspace(0,10,100), np.cos(x)\n",
        "lines = ax.plot(x,y)"
      ],
      "metadata": {
        "colab": {
          "base_uri": "https://localhost:8080/",
          "height": 265
        },
        "id": "5ndsHnOGKPqN",
        "outputId": "0821e19d-6e53-433c-9e18-26fd461a5d81"
      },
      "execution_count": 11,
      "outputs": [
        {
          "output_type": "display_data",
          "data": {
            "image/png": "[encoded data removed]",
            "text/plain": [
              "<Figure size 432x288 with 1 Axes>"
            ]
          },
          "metadata": {
            "needs_background": "light"
          }
        }
      ]
    },
    {
      "cell_type": "code",
      "source": [
        "# 1D data: scatterplot\n",
        "ax.scatter(x,y)"
      ],
      "metadata": {
        "colab": {
          "base_uri": "https://localhost:8080/"
        },
        "id": "owBLHRInKsGU",
        "outputId": "3a48c20c-31ca-4e65-99df-1bd3352e23d8"
      },
      "execution_count": 16,
      "outputs": [
        {
          "output_type": "execute_result",
          "data": {
            "text/plain": [
              "<matplotlib.collections.PathCollection at 0x7f9ea38ac1d0>"
            ]
          },
          "metadata": {},
          "execution_count": 16
        }
      ]
    },
    {
      "cell_type": "code",
      "source": [
        "# 1D data: vertical barplot\n",
        "axes[0,0].bar([1,2,3],[4,5,6])"
      ],
      "metadata": {
        "colab": {
          "base_uri": "https://localhost:8080/"
        },
        "id": "yjkJpo65K9JD",
        "outputId": "428beb2d-ffcc-4a11-f926-58c9c318c229"
      },
      "execution_count": 21,
      "outputs": [
        {
          "output_type": "execute_result",
          "data": {
            "text/plain": [
              "<BarContainer object of 3 artists>"
            ]
          },
          "metadata": {},
          "execution_count": 21
        }
      ]
    },
    {
      "cell_type": "code",
      "source": [
        "# 1D data: horizontal barplot\n",
        "axes[1,0].barh([1,2,3],[4,5,6])"
      ],
      "metadata": {
        "id": "E-GruzAxLQVB"
      },
      "execution_count": null,
      "outputs": []
    },
    {
      "cell_type": "code",
      "source": [
        "# 1D data: draw filled polygons\n",
        "ax.fill(x,y,color='blue')"
      ],
      "metadata": {
        "colab": {
          "base_uri": "https://localhost:8080/"
        },
        "id": "id1C1qhfLYFT",
        "outputId": "db5c722a-32ef-46ce-e00f-9d6728bc0740"
      },
      "execution_count": 22,
      "outputs": [
        {
          "output_type": "execute_result",
          "data": {
            "text/plain": [
              "[<matplotlib.patches.Polygon at 0x7f9ea419a3d0>]"
            ]
          },
          "metadata": {},
          "execution_count": 22
        }
      ]
    },
    {
      "cell_type": "code",
      "source": [
        "# 2D data: RGB array\n",
        "ax.imshow(img, \n",
        "          cmap='gist_earth',\n",
        "          interpolation='nearest',\n",
        "          vmin=-2,\n",
        "          vmax=2)"
      ],
      "metadata": {
        "colab": {
          "base_uri": "https://localhost:8080/"
        },
        "id": "0j47xTaaLftn",
        "outputId": "2c79877d-7aab-4952-bb26-2bcae4c23541"
      },
      "execution_count": 23,
      "outputs": [
        {
          "output_type": "execute_result",
          "data": {
            "text/plain": [
              "<matplotlib.image.AxesImage at 0x7f9ea4595810>"
            ]
          },
          "metadata": {},
          "execution_count": 23
        }
      ]
    },
    {
      "cell_type": "code",
      "source": [
        "# 2D data: vector fields\n",
        "axes[0,1].arrow(0,0,0.5,0.5)"
      ],
      "metadata": {
        "colab": {
          "base_uri": "https://localhost:8080/"
        },
        "id": "zIh_WpsULuaY",
        "outputId": "3b273378-601e-4276-92c6-dcc0acb11176"
      },
      "execution_count": 28,
      "outputs": [
        {
          "output_type": "execute_result",
          "data": {
            "text/plain": [
              "<matplotlib.patches.FancyArrow at 0x7f9ea3fa2750>"
            ]
          },
          "metadata": {},
          "execution_count": 28
        }
      ]
    },
    {
      "cell_type": "code",
      "source": [
        "# Histogram\n",
        "ax1.hist(y)"
      ],
      "metadata": {
        "colab": {
          "base_uri": "https://localhost:8080/"
        },
        "id": "UkmcOfZLMRWh",
        "outputId": "1422c971-935c-4d4c-cb3a-e9161005a61e"
      },
      "execution_count": 29,
      "outputs": [
        {
          "output_type": "execute_result",
          "data": {
            "text/plain": [
              "(array([26.,  8.,  7.,  6.,  6.,  6.,  6.,  7.,  8., 20.]),\n",
              " array([-9.99947166e-01, -7.99952450e-01, -5.99957733e-01, -3.99963016e-01,\n",
              "        -1.99968300e-01,  2.64169119e-05,  2.00021134e-01,  4.00015850e-01,\n",
              "         6.00010567e-01,  8.00005283e-01,  1.00000000e+00]),\n",
              " <a list of 10 Patch objects>)"
            ]
          },
          "metadata": {},
          "execution_count": 29
        }
      ]
    },
    {
      "cell_type": "code",
      "source": [
        "# Boxplot\n",
        "ax2.boxplot(y)"
      ],
      "metadata": {
        "colab": {
          "base_uri": "https://localhost:8080/"
        },
        "id": "Nd91dowLMUOu",
        "outputId": "60fe8ced-5dd2-4a26-c427-7fc8ad2dc934"
      },
      "execution_count": 30,
      "outputs": [
        {
          "output_type": "execute_result",
          "data": {
            "text/plain": [
              "{'boxes': [<matplotlib.lines.Line2D at 0x7f9e9f7041d0>],\n",
              " 'caps': [<matplotlib.lines.Line2D at 0x7f9ea3f34050>,\n",
              "  <matplotlib.lines.Line2D at 0x7f9ea3e71bd0>],\n",
              " 'fliers': [<matplotlib.lines.Line2D at 0x7f9e9f816590>],\n",
              " 'means': [],\n",
              " 'medians': [<matplotlib.lines.Line2D at 0x7f9e9f80cd50>],\n",
              " 'whiskers': [<matplotlib.lines.Line2D at 0x7f9e9f7044d0>,\n",
              "  <matplotlib.lines.Line2D at 0x7f9e9f704e10>]}"
            ]
          },
          "metadata": {},
          "execution_count": 30
        }
      ]
    },
    {
      "cell_type": "code",
      "source": [
        "# Violin plot\n",
        "ax2.violinplot(y)"
      ],
      "metadata": {
        "colab": {
          "base_uri": "https://localhost:8080/"
        },
        "id": "n2aKCL-SMXcV",
        "outputId": "f7e8a830-3b2c-4b60-fd2b-58fe4d49ee6f"
      },
      "execution_count": 31,
      "outputs": [
        {
          "output_type": "execute_result",
          "data": {
            "text/plain": [
              "{'bodies': [<matplotlib.collections.PolyCollection at 0x7f9ea38ac610>],\n",
              " 'cbars': <matplotlib.collections.LineCollection at 0x7f9e9f6f79d0>,\n",
              " 'cmaxes': <matplotlib.collections.LineCollection at 0x7f9e9f82d150>,\n",
              " 'cmins': <matplotlib.collections.LineCollection at 0x7f9e9f6f7e10>}"
            ]
          },
          "metadata": {},
          "execution_count": 31
        }
      ]
    },
    {
      "cell_type": "code",
      "source": [
        "# Example workflow\n",
        "x = [1,2,3,4] #Step 1\n",
        "y = [10,20,25,30]\n",
        "fig = plt.figure() #Step 2\n",
        "ax = fig.add_subplot(111) #Step 3\n",
        "ax.plot(x, y, color='lightblue', linewidth=3) #Step 3, 4\n",
        "ax.scatter([2,4,6],\n",
        "               [5,15,25],\n",
        "               color='darkgreen',\n",
        "               marker='^')\n",
        "ax.set_xlim(1, 6.5)\n",
        "plt.savefig('foo.png') #Step 5\n",
        "plt.show() #Step 6"
      ],
      "metadata": {
        "colab": {
          "base_uri": "https://localhost:8080/",
          "height": 265
        },
        "id": "OKoDBdpZMfSO",
        "outputId": "9018c2ef-b38e-4313-c976-79dd3c002f5b"
      },
      "execution_count": 33,
      "outputs": [
        {
          "output_type": "display_data",
          "data": {
            "image/png": "[encoded data removed]",
            "text/plain": [
              "<Figure size 432x288 with 1 Axes>"
            ]
          },
          "metadata": {
            "needs_background": "light"
          }
        }
      ]
    },
    {
      "cell_type": "code",
      "source": [
        "# Clear plot\n",
        "plt.clf()"
      ],
      "metadata": {
        "colab": {
          "base_uri": "https://localhost:8080/",
          "height": 34
        },
        "id": "KvGMu-tLM86E",
        "outputId": "88f37ff7-633a-4410-9593-6ffb0d1deb3a"
      },
      "execution_count": 35,
      "outputs": [
        {
          "output_type": "display_data",
          "data": {
            "text/plain": [
              "<Figure size 432x288 with 0 Axes>"
            ]
          },
          "metadata": {}
        }
      ]
    },
    {
      "cell_type": "code",
      "source": [
        "# Close plot\n",
        "plt.close()"
      ],
      "metadata": {
        "id": "drOo8jAhM6gI"
      },
      "execution_count": 34,
      "outputs": []
    },
    {
      "cell_type": "markdown",
      "source": [
        "## Customizations"
      ],
      "metadata": {
        "id": "FDLKenM5VWU6"
      }
    },
    {
      "cell_type": "code",
      "source": [
        "# Markers\n",
        "fig, ax = plt.subplots()\n",
        "ax.scatter(x,y,marker=\".\")"
      ],
      "metadata": {
        "colab": {
          "base_uri": "https://localhost:8080/",
          "height": 282
        },
        "id": "o7-6ak2_NAvQ",
        "outputId": "337e6498-f9a4-4841-d21c-bbe4cd0bcc55"
      },
      "execution_count": 36,
      "outputs": [
        {
          "output_type": "execute_result",
          "data": {
            "text/plain": [
              "<matplotlib.collections.PathCollection at 0x7f9e9f662b10>"
            ]
          },
          "metadata": {},
          "execution_count": 36
        },
        {
          "output_type": "display_data",
          "data": {
            "image/png": "[encoded data removed]",
            "text/plain": [
              "<Figure size 432x288 with 1 Axes>"
            ]
          },
          "metadata": {
            "needs_background": "light"
          }
        }
      ]
    },
    {
      "cell_type": "code",
      "source": [
        "# Line styles\n",
        "plt.plot(x,y,ls='--')"
      ],
      "metadata": {
        "colab": {
          "base_uri": "https://localhost:8080/",
          "height": 282
        },
        "id": "QN-8ATD4NTfd",
        "outputId": "7cf11a59-a6bb-42db-f8a9-98799b918a22"
      },
      "execution_count": 37,
      "outputs": [
        {
          "output_type": "execute_result",
          "data": {
            "text/plain": [
              "[<matplotlib.lines.Line2D at 0x7f9e9f5dae10>]"
            ]
          },
          "metadata": {},
          "execution_count": 37
        },
        {
          "output_type": "display_data",
          "data": {
            "image/png": "[encoded data removed]",
            "text/plain": [
              "<Figure size 432x288 with 1 Axes>"
            ]
          },
          "metadata": {
            "needs_background": "light"
          }
        }
      ]
    },
    {
      "cell_type": "code",
      "source": [
        "# Text\n",
        "ax.text(1, -2.1, 'Example graph', style='italic')"
      ],
      "metadata": {
        "colab": {
          "base_uri": "https://localhost:8080/"
        },
        "id": "jD-BLe8vNa2C",
        "outputId": "f516ab67-305b-4b1d-fcee-25bcc7ce05a6"
      },
      "execution_count": 38,
      "outputs": [
        {
          "output_type": "execute_result",
          "data": {
            "text/plain": [
              "Text(1, -2.1, 'Example graph')"
            ]
          },
          "metadata": {},
          "execution_count": 38
        }
      ]
    },
    {
      "cell_type": "code",
      "source": [
        "# Annotations\n",
        "ax.annotate(\"Sine\",\n",
        "            xy=(8, 0),\n",
        "            xycoords='data',\n",
        "            xytext=(10.5, 0),\n",
        "            textcoords='data',\n",
        "            arrowprops=dict(arrowstyle=\"->\",\n",
        "            connectionstyle=\"arc3\"),)"
      ],
      "metadata": {
        "colab": {
          "base_uri": "https://localhost:8080/"
        },
        "id": "En2yir1tNiHt",
        "outputId": "b5294891-b446-4a10-e25b-3c8a16e37d12"
      },
      "execution_count": 39,
      "outputs": [
        {
          "output_type": "execute_result",
          "data": {
            "text/plain": [
              "Text(10.5, 0, 'Sine')"
            ]
          },
          "metadata": {},
          "execution_count": 39
        }
      ]
    },
    {
      "cell_type": "code",
      "source": [
        "# Legends\n",
        "ax.set(title='An Example Axes', #Set a title and x-and y-axis labels\n",
        "           ylabel='Y-Axis',\n",
        "           xlabel='X-Axis')"
      ],
      "metadata": {
        "colab": {
          "base_uri": "https://localhost:8080/"
        },
        "id": "44wWpJLRNpVd",
        "outputId": "c331da28-5287-4bd4-928e-f9433a7a0720"
      },
      "execution_count": 40,
      "outputs": [
        {
          "output_type": "execute_result",
          "data": {
            "text/plain": [
              "[Text(3.200000000000003, 0.5, 'Y-Axis'),\n",
              " Text(0.5, 3.1999999999999993, 'X-Axis'),\n",
              " Text(0.5, 1.0, 'An Example Axes')]"
            ]
          },
          "metadata": {},
          "execution_count": 40
        }
      ]
    },
    {
      "cell_type": "code",
      "source": [
        "# Ticks\n",
        "ax.xaxis.set(ticks=range(1,5), #Manually set x-ticks\n",
        "                 ticklabels=[3,100,-12,\"foo\"])\n",
        "ax.tick_params(axis='y', #Make y-ticks longer and go in and out\n",
        "                   direction='inout',\n",
        "length=10)"
      ],
      "metadata": {
        "id": "6ZThAktEN13T"
      },
      "execution_count": 41,
      "outputs": []
    },
    {
      "cell_type": "code",
      "source": [
        "# Subplot spacing\n",
        "fig.tight_layout() #Fit subplot(s) in to the figure area"
      ],
      "metadata": {
        "id": "hRgbP-6xN5fe"
      },
      "execution_count": null,
      "outputs": []
    },
    {
      "cell_type": "code",
      "source": [
        "# Axis spines\n",
        "ax1.spines['top'].set_visible(False)  #Make the top axis line for a plot invisible"
      ],
      "metadata": {
        "id": "fGUXlpYCOA54"
      },
      "execution_count": 43,
      "outputs": []
    },
    {
      "cell_type": "markdown",
      "source": [
        "## Showing, saving"
      ],
      "metadata": {
        "id": "qDwkAz84VWcn"
      }
    },
    {
      "cell_type": "code",
      "source": [
        "# Save plot\n",
        "plt.savefig('foo.png')"
      ],
      "metadata": {
        "colab": {
          "base_uri": "https://localhost:8080/",
          "height": 34
        },
        "id": "r11kvdQlJQKA",
        "outputId": "6f711d32-7ada-4cb5-b783-a45e4e2051d4"
      },
      "execution_count": 8,
      "outputs": [
        {
          "output_type": "display_data",
          "data": {
            "text/plain": [
              "<Figure size 432x288 with 0 Axes>"
            ]
          },
          "metadata": {}
        }
      ]
    },
    {
      "cell_type": "code",
      "source": [
        "# Show plot\n",
        "plt.show()"
      ],
      "metadata": {
        "id": "9Hj-hODiJUEM"
      },
      "execution_count": 24,
      "outputs": []
    }
  ]
}