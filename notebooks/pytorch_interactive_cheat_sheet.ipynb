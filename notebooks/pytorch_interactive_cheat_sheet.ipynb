{
  "nbformat": 4,
  "nbformat_minor": 0,
  "metadata": {
    "colab": {
      "name": "pytorch_interactive_cheat_sheet.ipynb",
      "provenance": [],
      "collapsed_sections": [
        "VmtFlmA0UVM8",
        "BJ2IHpk2X7Ph",
        "qVYwXbIOX7Sl",
        "ikPsRub_X7VX",
        "qlJgY6bIX7Ya",
        "d4hJoOTFX7bn",
        "0gBdFc7vX7fN",
        "l8VyTgxZ-tJj"
      ]
    },
    "kernelspec": {
      "name": "python3",
      "display_name": "Python 3"
    },
    "language_info": {
      "name": "python"
    },
    "accelerator": "GPU"
  },
  "cells": [
    {
      "cell_type": "markdown",
      "source": [
        "### Based on [PyTorch 60 min blitz](https://pytorch.org/tutorials/beginner/deep_learning_60min_blitz.html)"
      ],
      "metadata": {
        "id": "VmtFlmA0UVM8"
      }
    },
    {
      "cell_type": "code",
      "source": [
        "import torch, torchvision\n",
        "import torchvision.transforms as transforms\n",
        "from torch.nn.functional import relu\n",
        "import numpy as np\n",
        "import matplotlib.pyplot as plt"
      ],
      "metadata": {
        "id": "j3Lje2h9z0cF"
      },
      "execution_count": 4,
      "outputs": []
    },
    {
      "cell_type": "markdown",
      "source": [
        "## Creating tensors"
      ],
      "metadata": {
        "id": "BJ2IHpk2X7Ph"
      }
    },
    {
      "cell_type": "code",
      "source": [
        "# Initializing a tensor (manually)\n",
        "manualTensor = torch.tensor([[1,2], [3,4]])\n",
        "manualTensor"
      ],
      "metadata": {
        "colab": {
          "base_uri": "https://localhost:8080/"
        },
        "id": "WMf6bORTz8Pr",
        "outputId": "b9fffe02-d874-4b91-e563-a3d12acd4cbf"
      },
      "execution_count": 5,
      "outputs": [
        {
          "output_type": "execute_result",
          "data": {
            "text/plain": [
              "tensor([[1, 2],\n",
              "        [3, 4]])"
            ]
          },
          "metadata": {},
          "execution_count": 5
        }
      ]
    },
    {
      "cell_type": "code",
      "source": [
        "# Initializing a tensor (from a NumPy array)\n",
        "npTensor = torch.from_numpy(np.array([[1,2], [3,4], [5,6]]))\n",
        "npTensor"
      ],
      "metadata": {
        "colab": {
          "base_uri": "https://localhost:8080/"
        },
        "id": "gXRwlWsF0IK3",
        "outputId": "9ded1073-fea3-4dbd-eb9b-42f63a78b855"
      },
      "execution_count": 6,
      "outputs": [
        {
          "output_type": "execute_result",
          "data": {
            "text/plain": [
              "tensor([[1, 2],\n",
              "        [3, 4],\n",
              "        [5, 6]])"
            ]
          },
          "metadata": {},
          "execution_count": 6
        }
      ]
    },
    {
      "cell_type": "code",
      "source": [
        "# Initializing a tensor (from another tensor)\n",
        "onesTensor = torch.ones_like(manualTensor)\n",
        "onesTensor"
      ],
      "metadata": {
        "colab": {
          "base_uri": "https://localhost:8080/"
        },
        "id": "R8c1VacD0buL",
        "outputId": "de6e147e-0a26-461f-b219-83025785d427"
      },
      "execution_count": 7,
      "outputs": [
        {
          "output_type": "execute_result",
          "data": {
            "text/plain": [
              "tensor([[1, 1],\n",
              "        [1, 1]])"
            ]
          },
          "metadata": {},
          "execution_count": 7
        }
      ]
    },
    {
      "cell_type": "code",
      "source": [
        "# Randomly initializing a random tensor (from another tensor)\n",
        "randTensor = torch.rand_like(npTensor, dtype=torch.float)\n",
        "randTensor"
      ],
      "metadata": {
        "colab": {
          "base_uri": "https://localhost:8080/"
        },
        "id": "wT7-72Lc0m-M",
        "outputId": "23501b6b-e909-4fbf-f2d6-d912291c61e6"
      },
      "execution_count": 8,
      "outputs": [
        {
          "output_type": "execute_result",
          "data": {
            "text/plain": [
              "tensor([[0.1148, 0.8467],\n",
              "        [0.5388, 0.5060],\n",
              "        [0.0496, 0.5307]])"
            ]
          },
          "metadata": {},
          "execution_count": 8
        }
      ]
    },
    {
      "cell_type": "code",
      "source": [
        "# Initializing tensors out-of-the-box (OOB)\n",
        "SHAPE = (4, 2)\n",
        "randTensorOOB = torch.rand(SHAPE)\n",
        "onesTensorOOB = torch.ones(SHAPE)\n",
        "zerosTensorOOB = torch.zeros(SHAPE)"
      ],
      "metadata": {
        "id": "0Q4ccaMa04C_"
      },
      "execution_count": 9,
      "outputs": []
    },
    {
      "cell_type": "markdown",
      "source": [
        "## Tensor properties"
      ],
      "metadata": {
        "id": "qVYwXbIOX7Sl"
      }
    },
    {
      "cell_type": "code",
      "source": [
        "# Shape\n",
        "randTensor.shape"
      ],
      "metadata": {
        "colab": {
          "base_uri": "https://localhost:8080/"
        },
        "id": "ZoVgUhK-2H-m",
        "outputId": "3e3aa503-6c7f-4ae6-9650-5a82cbce3106"
      },
      "execution_count": 10,
      "outputs": [
        {
          "output_type": "execute_result",
          "data": {
            "text/plain": [
              "torch.Size([3, 2])"
            ]
          },
          "metadata": {},
          "execution_count": 10
        }
      ]
    },
    {
      "cell_type": "code",
      "source": [
        "# Data type of tensor elements\n",
        "randTensor.dtype"
      ],
      "metadata": {
        "colab": {
          "base_uri": "https://localhost:8080/"
        },
        "id": "w23LmMpR2MIs",
        "outputId": "16a400cf-4fc5-4fea-f9c7-e9b1b4cf752a"
      },
      "execution_count": 11,
      "outputs": [
        {
          "output_type": "execute_result",
          "data": {
            "text/plain": [
              "torch.float32"
            ]
          },
          "metadata": {},
          "execution_count": 11
        }
      ]
    },
    {
      "cell_type": "code",
      "source": [
        "# Device tensor is stored on\n",
        "randTensor.device"
      ],
      "metadata": {
        "colab": {
          "base_uri": "https://localhost:8080/"
        },
        "id": "tyKV-GMq2Qfi",
        "outputId": "f99424b0-3a1f-4c0f-b140-54e74183d262"
      },
      "execution_count": 12,
      "outputs": [
        {
          "output_type": "execute_result",
          "data": {
            "text/plain": [
              "device(type='cpu')"
            ]
          },
          "metadata": {},
          "execution_count": 12
        }
      ]
    },
    {
      "cell_type": "markdown",
      "source": [
        "## Basic tensor operations"
      ],
      "metadata": {
        "id": "ikPsRub_X7VX"
      }
    },
    {
      "cell_type": "markdown",
      "source": [
        "See comprehensive list [here](https://pytorch.org/docs/stable/torch.html)."
      ],
      "metadata": {
        "id": "H8uD9kd92lKo"
      }
    },
    {
      "cell_type": "code",
      "source": [
        "# Move tensor to GPU\n",
        "if torch.cuda.is_available():\n",
        "  randTensor = randTensor.to('cuda')\n",
        "  print(f'Tensor is stored on:', randTensor.device)"
      ],
      "metadata": {
        "colab": {
          "base_uri": "https://localhost:8080/"
        },
        "id": "Q2d0Asln2klW",
        "outputId": "168c593a-59b9-4760-9e68-6e0741cc2c1b"
      },
      "execution_count": 13,
      "outputs": [
        {
          "output_type": "stream",
          "name": "stdout",
          "text": [
            "Tensor is stored on: cuda:0\n"
          ]
        }
      ]
    },
    {
      "cell_type": "code",
      "source": [
        "# Indexing\n",
        "randTensor[:,1]"
      ],
      "metadata": {
        "colab": {
          "base_uri": "https://localhost:8080/"
        },
        "id": "MHTQFyEf3EVj",
        "outputId": "8309f61c-5c61-4cc0-f147-62b47e5a97dd"
      },
      "execution_count": 14,
      "outputs": [
        {
          "output_type": "execute_result",
          "data": {
            "text/plain": [
              "tensor([0.8467, 0.5060, 0.5307], device='cuda:0')"
            ]
          },
          "metadata": {},
          "execution_count": 14
        }
      ]
    },
    {
      "cell_type": "code",
      "source": [
        "# Concatenating tensors\n",
        "torch.cat([randTensorOOB, onesTensorOOB], dim=1)"
      ],
      "metadata": {
        "colab": {
          "base_uri": "https://localhost:8080/"
        },
        "id": "HVBFTyyx3Rdj",
        "outputId": "8a32135a-d3e0-40eb-8059-b9c0a7897117"
      },
      "execution_count": 15,
      "outputs": [
        {
          "output_type": "execute_result",
          "data": {
            "text/plain": [
              "tensor([[0.8448, 0.6829, 1.0000, 1.0000],\n",
              "        [0.1527, 0.9728, 1.0000, 1.0000],\n",
              "        [0.9978, 0.5955, 1.0000, 1.0000],\n",
              "        [0.8559, 0.8529, 1.0000, 1.0000]])"
            ]
          },
          "metadata": {},
          "execution_count": 15
        }
      ]
    },
    {
      "cell_type": "code",
      "source": [
        "# Elementwise tensor multiplication\n",
        "randTensor.mul(randTensor)"
      ],
      "metadata": {
        "colab": {
          "base_uri": "https://localhost:8080/"
        },
        "id": "-akUaYM83bIp",
        "outputId": "07fe3307-0104-4e82-fa58-846a26698ce8"
      },
      "execution_count": 16,
      "outputs": [
        {
          "output_type": "execute_result",
          "data": {
            "text/plain": [
              "tensor([[0.0132, 0.7169],\n",
              "        [0.2903, 0.2561],\n",
              "        [0.0025, 0.2816]], device='cuda:0')"
            ]
          },
          "metadata": {},
          "execution_count": 16
        }
      ]
    },
    {
      "cell_type": "code",
      "source": [
        "# Elementwise tensor multiplication (alternate)\n",
        "randTensor * randTensor"
      ],
      "metadata": {
        "colab": {
          "base_uri": "https://localhost:8080/"
        },
        "id": "XZ2gLc4v3kwb",
        "outputId": "83ff3282-dac5-489a-8236-83c6165539bc"
      },
      "execution_count": 17,
      "outputs": [
        {
          "output_type": "execute_result",
          "data": {
            "text/plain": [
              "tensor([[0.0132, 0.7169],\n",
              "        [0.2903, 0.2561],\n",
              "        [0.0025, 0.2816]], device='cuda:0')"
            ]
          },
          "metadata": {},
          "execution_count": 17
        }
      ]
    },
    {
      "cell_type": "code",
      "source": [
        "# Matrix multiplication between tensors\n",
        "randTensor.matmul(randTensor.T)"
      ],
      "metadata": {
        "colab": {
          "base_uri": "https://localhost:8080/"
        },
        "id": "1eHY3zBV3o5U",
        "outputId": "43d4e002-8e1a-4d98-93ce-eac908e70508"
      },
      "execution_count": 18,
      "outputs": [
        {
          "output_type": "execute_result",
          "data": {
            "text/plain": [
              "tensor([[0.7301, 0.4903, 0.4550],\n",
              "        [0.4903, 0.5464, 0.2953],\n",
              "        [0.4550, 0.2953, 0.2841]], device='cuda:0')"
            ]
          },
          "metadata": {},
          "execution_count": 18
        }
      ]
    },
    {
      "cell_type": "code",
      "source": [
        "# Matrix multiplication between tensors (alternate)\n",
        "randTensor @ randTensor.T"
      ],
      "metadata": {
        "colab": {
          "base_uri": "https://localhost:8080/"
        },
        "id": "2hdCQP2H3yAu",
        "outputId": "bc1dbd76-350a-4cba-c5b5-8243ece3c255"
      },
      "execution_count": 19,
      "outputs": [
        {
          "output_type": "execute_result",
          "data": {
            "text/plain": [
              "tensor([[0.7301, 0.4903, 0.4550],\n",
              "        [0.4903, 0.5464, 0.2953],\n",
              "        [0.4550, 0.2953, 0.2841]], device='cuda:0')"
            ]
          },
          "metadata": {},
          "execution_count": 19
        }
      ]
    },
    {
      "cell_type": "code",
      "source": [
        "# In-place transpose (* in-place operations have a '_' suffix)\n",
        "randTensor.t_()"
      ],
      "metadata": {
        "colab": {
          "base_uri": "https://localhost:8080/"
        },
        "id": "pcsxxZO03_t6",
        "outputId": "9be5966d-d7f3-4f85-beef-686a8b4a2c58"
      },
      "execution_count": 20,
      "outputs": [
        {
          "output_type": "execute_result",
          "data": {
            "text/plain": [
              "tensor([[0.1148, 0.5388, 0.0496],\n",
              "        [0.8467, 0.5060, 0.5307]], device='cuda:0')"
            ]
          },
          "metadata": {},
          "execution_count": 20
        }
      ]
    },
    {
      "cell_type": "code",
      "source": [
        "# In-place elementwise addition\n",
        "onesTensorOOB.add_(10)"
      ],
      "metadata": {
        "colab": {
          "base_uri": "https://localhost:8080/"
        },
        "id": "0DRuhRk14PWw",
        "outputId": "247c8458-5805-4c55-9e86-4072a602590a"
      },
      "execution_count": 21,
      "outputs": [
        {
          "output_type": "execute_result",
          "data": {
            "text/plain": [
              "tensor([[11., 11.],\n",
              "        [11., 11.],\n",
              "        [11., 11.],\n",
              "        [11., 11.]])"
            ]
          },
          "metadata": {},
          "execution_count": 21
        }
      ]
    },
    {
      "cell_type": "code",
      "source": [
        "# Tensor to NumPy array\n",
        "randTensorOOB.numpy()"
      ],
      "metadata": {
        "colab": {
          "base_uri": "https://localhost:8080/"
        },
        "id": "nCZoBJpm4bCM",
        "outputId": "0d97bf9b-527f-4f83-8532-2862c14f42d7"
      },
      "execution_count": 22,
      "outputs": [
        {
          "output_type": "execute_result",
          "data": {
            "text/plain": [
              "array([[0.84476674, 0.68290806],\n",
              "       [0.15267605, 0.9727917 ],\n",
              "       [0.99777687, 0.59548074],\n",
              "       [0.8558971 , 0.85286075]], dtype=float32)"
            ]
          },
          "metadata": {},
          "execution_count": 22
        }
      ]
    },
    {
      "cell_type": "markdown",
      "source": [
        "## Computing gradients and updating weights"
      ],
      "metadata": {
        "id": "qlJgY6bIX7Ya"
      }
    },
    {
      "cell_type": "code",
      "source": [
        "# Loading a toy pretrained model\n",
        "resnet18 = torchvision.models.resnet18(pretrained=True)"
      ],
      "metadata": {
        "id": "N8jD0DFX5pyT"
      },
      "execution_count": 23,
      "outputs": []
    },
    {
      "cell_type": "code",
      "source": [
        "# Creating some random data/labels\n",
        "data, labels = torch.rand(1, 3, 64, 64), torch.rand(1, 1000)"
      ],
      "metadata": {
        "id": "rZG-flMB6KKC"
      },
      "execution_count": 24,
      "outputs": []
    },
    {
      "cell_type": "code",
      "source": [
        "# Forward pass through model\n",
        "pred = resnet18(data)"
      ],
      "metadata": {
        "id": "wSoPV6Dj6PeB"
      },
      "execution_count": 25,
      "outputs": []
    },
    {
      "cell_type": "code",
      "source": [
        "# Compute loss over predictions\n",
        "loss = (pred - labels).sum()\n",
        "loss"
      ],
      "metadata": {
        "colab": {
          "base_uri": "https://localhost:8080/"
        },
        "id": "Ki9_UZlN6TYk",
        "outputId": "97ab5e10-e688-4988-f2f0-6ab7f8657e9b"
      },
      "execution_count": 26,
      "outputs": [
        {
          "output_type": "execute_result",
          "data": {
            "text/plain": [
              "tensor(-502.6020, grad_fn=<SumBackward0>)"
            ]
          },
          "metadata": {},
          "execution_count": 26
        }
      ]
    },
    {
      "cell_type": "code",
      "source": [
        "# Perform backpropagation and store the gradients for each\n",
        "# model parameter in the parameter's .grad attribute\n",
        "loss.backward()"
      ],
      "metadata": {
        "id": "wu8YVT_C6fhs"
      },
      "execution_count": 27,
      "outputs": []
    },
    {
      "cell_type": "code",
      "source": [
        "# Initialize an optimizer\n",
        "optim = torch.optim.SGD(resnet18.parameters(), \n",
        "                        lr=1e-2, \n",
        "                        momentum=.9) # stochastic gradient descent optimizer"
      ],
      "metadata": {
        "id": "kWtLQh4-6onh"
      },
      "execution_count": 28,
      "outputs": []
    },
    {
      "cell_type": "code",
      "source": [
        "# Initiate gradient descent and make the optimizer adjust\n",
        "# each parameter by its gradient\n",
        "optim.step()"
      ],
      "metadata": {
        "id": "cNyHQNe97B7J"
      },
      "execution_count": 29,
      "outputs": []
    },
    {
      "cell_type": "markdown",
      "source": [
        "## Differentiation in Autograd"
      ],
      "metadata": {
        "id": "d4hJoOTFX7bn"
      }
    },
    {
      "cell_type": "code",
      "source": [
        "# Initialize tensors that require gradient tracking\n",
        "a = torch.rand((2,3,3,4), requires_grad=True) # 4 dimensions = rank-4 tensor\n",
        "b = torch.rand((2,3,3,4), requires_grad=True)"
      ],
      "metadata": {
        "id": "mT7Clhji8OWU"
      },
      "execution_count": 30,
      "outputs": []
    },
    {
      "cell_type": "code",
      "source": [
        "# Compute loss with toy loss function 4a^4 - 2b^5\n",
        "toyLoss = 4*a**4 - 2*b**5"
      ],
      "metadata": {
        "id": "W0r5T-Yo8jEY"
      },
      "execution_count": 31,
      "outputs": []
    },
    {
      "cell_type": "code",
      "source": [
        "# Compute gradients for \"parameters\" a and b\n",
        "toyLoss.sum().backward()"
      ],
      "metadata": {
        "id": "Z_VPmnjH88nd"
      },
      "execution_count": 32,
      "outputs": []
    },
    {
      "cell_type": "code",
      "source": [
        "# Check that computed gradients match analytic gradients\n",
        "print((16*a**3 == a.grad))\n",
        "print((-10*b**4 == b.grad))"
      ],
      "metadata": {
        "colab": {
          "base_uri": "https://localhost:8080/"
        },
        "id": "kvsqEOyx9WGA",
        "outputId": "71548e86-45fb-4a3c-bc1f-702c6c3bc423"
      },
      "execution_count": 33,
      "outputs": [
        {
          "output_type": "stream",
          "name": "stdout",
          "text": [
            "tensor([[[[True, True, True, True],\n",
            "          [True, True, True, True],\n",
            "          [True, True, True, True]],\n",
            "\n",
            "         [[True, True, True, True],\n",
            "          [True, True, True, True],\n",
            "          [True, True, True, True]],\n",
            "\n",
            "         [[True, True, True, True],\n",
            "          [True, True, True, True],\n",
            "          [True, True, True, True]]],\n",
            "\n",
            "\n",
            "        [[[True, True, True, True],\n",
            "          [True, True, True, True],\n",
            "          [True, True, True, True]],\n",
            "\n",
            "         [[True, True, True, True],\n",
            "          [True, True, True, True],\n",
            "          [True, True, True, True]],\n",
            "\n",
            "         [[True, True, True, True],\n",
            "          [True, True, True, True],\n",
            "          [True, True, True, True]]]])\n",
            "tensor([[[[True, True, True, True],\n",
            "          [True, True, True, True],\n",
            "          [True, True, True, True]],\n",
            "\n",
            "         [[True, True, True, True],\n",
            "          [True, True, True, True],\n",
            "          [True, True, True, True]],\n",
            "\n",
            "         [[True, True, True, True],\n",
            "          [True, True, True, True],\n",
            "          [True, True, True, True]]],\n",
            "\n",
            "\n",
            "        [[[True, True, True, True],\n",
            "          [True, True, True, True],\n",
            "          [True, True, True, True]],\n",
            "\n",
            "         [[True, True, True, True],\n",
            "          [True, True, True, True],\n",
            "          [True, True, True, True]],\n",
            "\n",
            "         [[True, True, True, True],\n",
            "          [True, True, True, True],\n",
            "          [True, True, True, True]]]])\n"
          ]
        }
      ]
    },
    {
      "cell_type": "markdown",
      "source": [
        "## Freezing parameters and finetuning"
      ],
      "metadata": {
        "id": "0gBdFc7vX7fN"
      }
    },
    {
      "cell_type": "code",
      "source": [
        "# Freeze parameters in a pretrained model\n",
        "for param in resnet18.parameters():\n",
        "  param.requires_grad = False"
      ],
      "metadata": {
        "id": "bpNSwMN1-AJJ"
      },
      "execution_count": 34,
      "outputs": []
    },
    {
      "cell_type": "code",
      "source": [
        "# Replace final layer of model with unfrozen layer for finetuning\n",
        "resnet18.fc = torch.nn.Linear(512, 10)"
      ],
      "metadata": {
        "id": "ll_2RYI4-RIx"
      },
      "execution_count": 36,
      "outputs": []
    },
    {
      "cell_type": "markdown",
      "source": [
        "## Example: Train a CNN for image classification"
      ],
      "metadata": {
        "id": "l8VyTgxZ-tJj"
      }
    },
    {
      "cell_type": "code",
      "source": [
        "# Load training and test data\n",
        "transform = transforms.Compose([transforms.ToTensor(), \n",
        "                                transforms.Normalize((0.5,0.5,0.5), (0.5,0.5,0.5))])\n",
        "BATCH_SIZE = 4\n",
        "train_data = torchvision.datasets.CIFAR10(root='./data',\n",
        "                                          train=True,\n",
        "                                          download=True,\n",
        "                                          transform=transform)\n",
        "trainloader = torch.utils.data.DataLoader(train_data,\n",
        "                                          batch_size=BATCH_SIZE,\n",
        "                                          shuffle=True,\n",
        "                                          num_workers=2)\n",
        "test_data = torchvision.datasets.CIFAR10(root='./data',\n",
        "                                         train=False,\n",
        "                                         download=True,\n",
        "                                         transform=transform)\n",
        "testloader = torch.utils.data.DataLoader(test_data,\n",
        "                                        batch_size=BATCH_SIZE,\n",
        "                                        shuffle=False,\n",
        "                                        num_workers=2)\n",
        "CLASSSES = ('plane', 'car', 'bird', 'cat',\n",
        "           'deer', 'dog', 'frog', 'horse', 'ship', 'truck')"
      ],
      "metadata": {
        "colab": {
          "base_uri": "https://localhost:8080/"
        },
        "id": "GG4jyKlS_Zbl",
        "outputId": "54b3a890-dab7-4e64-b575-5dc30b645047"
      },
      "execution_count": 37,
      "outputs": [
        {
          "output_type": "stream",
          "name": "stdout",
          "text": [
            "Files already downloaded and verified\n",
            "Files already downloaded and verified\n"
          ]
        }
      ]
    },
    {
      "cell_type": "code",
      "source": [
        "# Displaying some of the training images\n",
        "def imShow(img):\n",
        "  img = img / 2 + 0.5 # unnormalize\n",
        "  npimg = img.numpy()\n",
        "  plt.imshow(np.transpose(npimg, (1,2,0)))\n",
        "  plt.show()\n",
        "\n",
        "dataIterator = iter(trainloader)\n",
        "images, labels = dataIterator.next()\n",
        "\n",
        "imShow(torchvision.utils.make_grid(images))"
      ],
      "metadata": {
        "colab": {
          "base_uri": "https://localhost:8080/",
          "height": 138
        },
        "id": "QXIKGSENAPhC",
        "outputId": "f29e5707-d291-415e-dc77-3fdae8b5ab95"
      },
      "execution_count": 38,
      "outputs": [
        {
          "output_type": "display_data",
          "data": {
            "image/png": "[encoded data removed]",
            "text/plain": [
              "<Figure size 432x288 with 1 Axes>"
            ]
          },
          "metadata": {
            "needs_background": "light"
          }
        }
      ]
    },
    {
      "cell_type": "code",
      "source": [
        "# Define a convolutional neural network\n",
        "class CNN(torch.nn.Module):\n",
        "  def __init__(self):\n",
        "    super().__init__() # call parent class constructor\n",
        "    self.conv1 = torch.nn.Conv2d(3, 6, 5) # First convolutional layer\n",
        "    self.pool = torch.nn.MaxPool2d(2, 2) # Max pooling layer\n",
        "    self.conv2 = torch.nn.Conv2d(6, 16, 5) # Second convolutional layer\n",
        "    self.fc1 = torch.nn.Linear(16*5*5, 120) # First fully connected linear layer\n",
        "    self.fc2 = torch.nn.Linear(120, 84) # Second fully connected linear layer\n",
        "    self.fc3 = torch.nn.Linear(84, 10) # Third fully connected linear layer\n",
        "  \n",
        "  # Perform forward pass on input through network (x is an input tensor)\n",
        "  def forward(self, x):\n",
        "    x = self.pool(relu(self.conv1(x))) # x' = maxPool(ReLU(convolute(x)))\n",
        "    x = self.pool(relu(self.conv2(x))) # x'' = maxPool(ReLU(convolute(x)))\n",
        "    x = torch.flatten(x, 1) # flatten all dimensions except batch, x''' = flatten(x'')\n",
        "    x = relu(self.fc1(x)) # x'''' = ReLU(linear(x'''))\n",
        "    x = relu(self.fc2(x)) # x''''' = ReLU(linear(x''''))\n",
        "    x = self.fc3(x) # x_final = linear(x''''')\n",
        "    return x"
      ],
      "metadata": {
        "id": "wvDR-MYcAtRO"
      },
      "execution_count": 41,
      "outputs": []
    },
    {
      "cell_type": "code",
      "source": [
        "# Initialize the model\n",
        "cnn = CNN()"
      ],
      "metadata": {
        "id": "l5NgAFw2BPip"
      },
      "execution_count": 42,
      "outputs": []
    },
    {
      "cell_type": "code",
      "source": [
        "# Define a loss function\n",
        "lossFunc = torch.nn.CrossEntropyLoss()"
      ],
      "metadata": {
        "id": "POjGw7PLDTFo"
      },
      "execution_count": 43,
      "outputs": []
    },
    {
      "cell_type": "code",
      "source": [
        "# Define an optimizer\n",
        "optim = torch.optim.SGD(cnn.parameters(), lr=0.001, momentum=0.9)"
      ],
      "metadata": {
        "id": "bRYNYviXDUEn"
      },
      "execution_count": 44,
      "outputs": []
    },
    {
      "cell_type": "code",
      "source": [
        "# Train the network\n",
        "EPOCHS = 2\n",
        "for epoch in range(EPOCHS):\n",
        "\n",
        "  cumul_loss = 0.0\n",
        "  for i, data in enumerate(trainloader, 0):\n",
        "    # get train inputs and input labels\n",
        "    inputs, labels = data \n",
        "\n",
        "    # set parameter gradients to zero\n",
        "    optim.zero_grad()\n",
        "\n",
        "    # perform forward pass\n",
        "    pred = cnn(inputs) # calls forward() method\n",
        "\n",
        "    # compute loss\n",
        "    loss = lossFunc(pred, labels)\n",
        "\n",
        "    # backpropagate loss, compute gradients\n",
        "    loss.backward()\n",
        "\n",
        "    # adjust weights according to gradients\n",
        "    optim.step()\n",
        "\n",
        "    # accumulate cumulative loss\n",
        "    cumul_loss += loss.item()\n",
        "    if i % 1000 == 0 and i > 0:\n",
        "      print('Minibatch loss after {} steps: {:.2f}'.format(i, cumul_loss))\n",
        "      cumul_loss = 0\n",
        "\n",
        "print('Training complete')"
      ],
      "metadata": {
        "colab": {
          "base_uri": "https://localhost:8080/"
        },
        "id": "IsrfHiVzDUIe",
        "outputId": "7f214d25-29d1-4d31-ecfc-7f576c42a069"
      },
      "execution_count": 45,
      "outputs": [
        {
          "output_type": "stream",
          "name": "stdout",
          "text": [
            "Minibatch loss after 1000 steps: 2299.47\n",
            "Minibatch loss after 2000 steps: 2123.60\n",
            "Minibatch loss after 3000 steps: 1893.51\n",
            "Minibatch loss after 4000 steps: 1766.53\n",
            "Minibatch loss after 5000 steps: 1653.85\n",
            "Minibatch loss after 6000 steps: 1600.21\n",
            "Minibatch loss after 7000 steps: 1574.18\n",
            "Minibatch loss after 8000 steps: 1554.99\n",
            "Minibatch loss after 9000 steps: 1520.87\n",
            "Minibatch loss after 10000 steps: 1477.73\n",
            "Minibatch loss after 11000 steps: 1446.47\n",
            "Minibatch loss after 12000 steps: 1486.25\n",
            "Minibatch loss after 1000 steps: 1393.94\n",
            "Minibatch loss after 2000 steps: 1356.10\n",
            "Minibatch loss after 3000 steps: 1382.41\n",
            "Minibatch loss after 4000 steps: 1347.68\n",
            "Minibatch loss after 5000 steps: 1348.88\n",
            "Minibatch loss after 6000 steps: 1347.79\n",
            "Minibatch loss after 7000 steps: 1313.82\n",
            "Minibatch loss after 8000 steps: 1346.90\n",
            "Minibatch loss after 9000 steps: 1315.12\n",
            "Minibatch loss after 10000 steps: 1288.31\n",
            "Minibatch loss after 11000 steps: 1245.51\n",
            "Minibatch loss after 12000 steps: 1287.73\n",
            "Training complete\n"
          ]
        }
      ]
    },
    {
      "cell_type": "code",
      "source": [
        "# Saving model\n",
        "\n",
        "PATH_TO_MODEL = 'path/to/model'\n",
        "# torch.save(cnn.state_dict(), PATH_TO_MODEL)"
      ],
      "metadata": {
        "id": "0j6T2NV0F3EM"
      },
      "execution_count": 46,
      "outputs": []
    },
    {
      "cell_type": "code",
      "source": [
        "# Load saved model\n",
        "\n",
        "# cnn = CNN()\n",
        "# cnn.load_state_dict(torch.load(PATH_TO_MODEL))"
      ],
      "metadata": {
        "id": "p9MyVFc_Gq-E"
      },
      "execution_count": null,
      "outputs": []
    },
    {
      "cell_type": "code",
      "source": [
        "# Evaluating on the test data\n",
        "correct, total = 0, 0\n",
        "\n",
        "# We don't need to store gradients anymore since we're not training\n",
        "with torch.no_grad(): \n",
        "  for data in testloader:\n",
        "    images, labels = data\n",
        "    # Make predictions by passing images through trained model\n",
        "    test_pred = cnn(images)\n",
        "    # Choose class with highest energy as prediction\n",
        "    _, prediction = torch.max(test_pred.data, 1)\n",
        "    total += labels.size(0)\n",
        "    correct += (prediction == labels).sum().item()\n",
        "\n",
        "print('Accuracy of the model over 10,000 test images: {:}%'.format(100*correct/total))"
      ],
      "metadata": {
        "colab": {
          "base_uri": "https://localhost:8080/"
        },
        "id": "mp96Cgc4HAEu",
        "outputId": "3f0e86f7-5565-436b-f835-8e56236cdb28"
      },
      "execution_count": 49,
      "outputs": [
        {
          "output_type": "stream",
          "name": "stdout",
          "text": [
            "Accuracy of the model over 10,000 test images: 54.89%\n"
          ]
        }
      ]
    },
    {
      "cell_type": "code",
      "source": [
        "# Training on GPU\n",
        "\n",
        "# Set device\n",
        "device = torch.device('cuda:0' if torch.cuda.is_available() else 'cpu')\n",
        "device"
      ],
      "metadata": {
        "colab": {
          "base_uri": "https://localhost:8080/"
        },
        "id": "ZocIQOdkH2HZ",
        "outputId": "4394ee49-bf3e-411e-ad30-21b2cc9b4d2a"
      },
      "execution_count": 50,
      "outputs": [
        {
          "output_type": "execute_result",
          "data": {
            "text/plain": [
              "device(type='cuda', index=0)"
            ]
          },
          "metadata": {},
          "execution_count": 50
        }
      ]
    },
    {
      "cell_type": "code",
      "source": [
        "# Transfer model to GPU\n",
        "cnn.to(device)"
      ],
      "metadata": {
        "colab": {
          "base_uri": "https://localhost:8080/"
        },
        "id": "OmbNjfjfIPOe",
        "outputId": "20dc3f84-51b3-4b3a-9f22-f2d5a6fc1436"
      },
      "execution_count": 51,
      "outputs": [
        {
          "output_type": "execute_result",
          "data": {
            "text/plain": [
              "CNN(\n",
              "  (conv1): Conv2d(3, 6, kernel_size=(5, 5), stride=(1, 1))\n",
              "  (pool): MaxPool2d(kernel_size=2, stride=2, padding=0, dilation=1, ceil_mode=False)\n",
              "  (conv2): Conv2d(6, 16, kernel_size=(5, 5), stride=(1, 1))\n",
              "  (fc1): Linear(in_features=400, out_features=120, bias=True)\n",
              "  (fc2): Linear(in_features=120, out_features=84, bias=True)\n",
              "  (fc3): Linear(in_features=84, out_features=10, bias=True)\n",
              ")"
            ]
          },
          "metadata": {},
          "execution_count": 51
        }
      ]
    },
    {
      "cell_type": "code",
      "source": [
        "# To train on GPU, ALL data must be transferred to the GPU as well, e.g. \n",
        "# inputs, labels = data[0].to(device), data[1].to(device)"
      ],
      "metadata": {
        "id": "eFA8VbpiIS_O"
      },
      "execution_count": null,
      "outputs": []
    }
  ]
}