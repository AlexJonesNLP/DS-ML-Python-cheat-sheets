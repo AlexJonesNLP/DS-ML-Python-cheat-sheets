{
  "nbformat": 4,
  "nbformat_minor": 0,
  "metadata": {
    "colab": {
      "name": "scipy_interactive_cheat_sheet.ipynb",
      "provenance": [],
      "collapsed_sections": [
        "N4jI435pUHzH",
        "11sQW__LXAKw",
        "-_BjerShXANk",
        "XrtQXF7-XAQF",
        "e2AT2YncXASH",
        "359QrnVE31kb"
      ]
    },
    "kernelspec": {
      "name": "python3",
      "display_name": "Python 3"
    },
    "language_info": {
      "name": "python"
    }
  },
  "cells": [
    {
      "cell_type": "markdown",
      "source": [
        "### Based on [SciPy cheat sheet](http://datacamp-community-prod.s3.amazonaws.com/dfdb6d58-e044-4b38-bab3-5de0b825909b)"
      ],
      "metadata": {
        "id": "N4jI435pUHzH"
      }
    },
    {
      "cell_type": "code",
      "source": [
        "from scipy import linalg, special, misc, sparse\n",
        "import numpy as np"
      ],
      "metadata": {
        "id": "5drQQvOL33rF"
      },
      "execution_count": 70,
      "outputs": []
    },
    {
      "cell_type": "markdown",
      "source": [
        "## Matrix operations"
      ],
      "metadata": {
        "id": "11sQW__LXAKw"
      }
    },
    {
      "cell_type": "code",
      "source": [
        "# Create a randomly initialized matrix\n",
        "A = np.matrix(np.random.random((2,2)))"
      ],
      "metadata": {
        "id": "jfSZ9jrw56zL"
      },
      "execution_count": 19,
      "outputs": []
    },
    {
      "cell_type": "code",
      "source": [
        "# Create a randomly initialized matrix (alternate)\n",
        "B = np.mat(np.random.random((10,5)))"
      ],
      "metadata": {
        "id": "9-HhWPdJ6Be9"
      },
      "execution_count": 20,
      "outputs": []
    },
    {
      "cell_type": "code",
      "source": [
        "# Create a matrix manually\n",
        "C = np.mat([[1,2], [3,4]])"
      ],
      "metadata": {
        "id": "BJLTsrkc6TP0"
      },
      "execution_count": 21,
      "outputs": []
    },
    {
      "cell_type": "code",
      "source": [
        "# Inverse\n",
        "A.I"
      ],
      "metadata": {
        "colab": {
          "base_uri": "https://localhost:8080/"
        },
        "id": "Genrdnbi6ZE-",
        "outputId": "c48be7a7-dce8-443e-d672-3dbb795af47e"
      },
      "execution_count": 22,
      "outputs": [
        {
          "output_type": "execute_result",
          "data": {
            "text/plain": [
              "matrix([[-0.88942867,  2.11427855],\n",
              "        [ 1.9479634 , -1.91483897]])"
            ]
          },
          "metadata": {},
          "execution_count": 22
        }
      ]
    },
    {
      "cell_type": "code",
      "source": [
        "# Inverse (alternate)\n",
        "linalg.inv(A)"
      ],
      "metadata": {
        "colab": {
          "base_uri": "https://localhost:8080/"
        },
        "id": "9lqu4Cqz6cLM",
        "outputId": "93c4a757-8a0d-45fc-d29b-423f9005091f"
      },
      "execution_count": 23,
      "outputs": [
        {
          "output_type": "execute_result",
          "data": {
            "text/plain": [
              "array([[-0.88942867,  2.11427855],\n",
              "       [ 1.9479634 , -1.91483897]])"
            ]
          },
          "metadata": {},
          "execution_count": 23
        }
      ]
    },
    {
      "cell_type": "code",
      "source": [
        "# Transpose\n",
        "A.T"
      ],
      "metadata": {
        "colab": {
          "base_uri": "https://localhost:8080/"
        },
        "id": "DX-P9ufV6e85",
        "outputId": "94eaf5b2-c013-4cd3-866b-48bd089b3edc"
      },
      "execution_count": 24,
      "outputs": [
        {
          "output_type": "execute_result",
          "data": {
            "text/plain": [
              "matrix([[0.79275462, 0.80646832],\n",
              "        [0.87532378, 0.36822871]])"
            ]
          },
          "metadata": {},
          "execution_count": 24
        }
      ]
    },
    {
      "cell_type": "code",
      "source": [
        "# Conjugate transpose\n",
        "A.H"
      ],
      "metadata": {
        "colab": {
          "base_uri": "https://localhost:8080/"
        },
        "id": "X4kLZXKp6iQE",
        "outputId": "17cf752c-65df-42bf-bec4-41f32209a809"
      },
      "execution_count": 25,
      "outputs": [
        {
          "output_type": "execute_result",
          "data": {
            "text/plain": [
              "matrix([[0.79275462, 0.80646832],\n",
              "        [0.87532378, 0.36822871]])"
            ]
          },
          "metadata": {},
          "execution_count": 25
        }
      ]
    },
    {
      "cell_type": "code",
      "source": [
        "# Trace\n",
        "np.trace(A)"
      ],
      "metadata": {
        "colab": {
          "base_uri": "https://localhost:8080/"
        },
        "id": "vqgenmN86kD-",
        "outputId": "79ad6418-45e0-41fd-9384-07ed13b6f40f"
      },
      "execution_count": 26,
      "outputs": [
        {
          "output_type": "execute_result",
          "data": {
            "text/plain": [
              "1.1609833249348365"
            ]
          },
          "metadata": {},
          "execution_count": 26
        }
      ]
    },
    {
      "cell_type": "code",
      "source": [
        "# L2 norm\n",
        "linalg.norm(A)"
      ],
      "metadata": {
        "colab": {
          "base_uri": "https://localhost:8080/"
        },
        "id": "oja3ASRG6mWk",
        "outputId": "1775beb7-57c2-46f1-8c33-5b4019404192"
      },
      "execution_count": 27,
      "outputs": [
        {
          "output_type": "execute_result",
          "data": {
            "text/plain": [
              "1.4766973756460655"
            ]
          },
          "metadata": {},
          "execution_count": 27
        }
      ]
    },
    {
      "cell_type": "code",
      "source": [
        "# L1 norm\n",
        "linalg.norm(A, 1)"
      ],
      "metadata": {
        "colab": {
          "base_uri": "https://localhost:8080/"
        },
        "id": "VZ5ahS0m6qaI",
        "outputId": "aa7119f0-55c9-4d0b-ab3a-93de1b603074"
      },
      "execution_count": 28,
      "outputs": [
        {
          "output_type": "execute_result",
          "data": {
            "text/plain": [
              "1.5992229408699021"
            ]
          },
          "metadata": {},
          "execution_count": 28
        }
      ]
    },
    {
      "cell_type": "code",
      "source": [
        "# L-inf norm\n",
        "linalg.norm(A, np.inf)"
      ],
      "metadata": {
        "colab": {
          "base_uri": "https://localhost:8080/"
        },
        "id": "x0SIpecF6tKi",
        "outputId": "8ff0ecd6-63ac-42bd-80c7-bf29424671cc"
      },
      "execution_count": 29,
      "outputs": [
        {
          "output_type": "execute_result",
          "data": {
            "text/plain": [
              "1.668078394622568"
            ]
          },
          "metadata": {},
          "execution_count": 29
        }
      ]
    },
    {
      "cell_type": "code",
      "source": [
        "# Rank\n",
        "np.linalg.matrix_rank(C)"
      ],
      "metadata": {
        "colab": {
          "base_uri": "https://localhost:8080/"
        },
        "id": "FKpkSpLo6x1r",
        "outputId": "7dac9031-5450-4645-f5c1-8e767019d044"
      },
      "execution_count": 31,
      "outputs": [
        {
          "output_type": "execute_result",
          "data": {
            "text/plain": [
              "2"
            ]
          },
          "metadata": {},
          "execution_count": 31
        }
      ]
    },
    {
      "cell_type": "code",
      "source": [
        "# Determinant\n",
        "linalg.det(A)"
      ],
      "metadata": {
        "colab": {
          "base_uri": "https://localhost:8080/"
        },
        "id": "TYcK-6Th63LW",
        "outputId": "2443ba8b-16e6-4deb-baf7-2b650a144d94"
      },
      "execution_count": 32,
      "outputs": [
        {
          "output_type": "execute_result",
          "data": {
            "text/plain": [
              "-0.414005892475872"
            ]
          },
          "metadata": {},
          "execution_count": 32
        }
      ]
    },
    {
      "cell_type": "code",
      "source": [
        "# Least squares regression\n",
        "linalg.lstsq(A, C)"
      ],
      "metadata": {
        "colab": {
          "base_uri": "https://localhost:8080/"
        },
        "id": "UqKK-4aJ69Uq",
        "outputId": "e969606e-c74b-4e27-fca7-186ff636047d"
      },
      "execution_count": 36,
      "outputs": [
        {
          "output_type": "execute_result",
          "data": {
            "text/plain": [
              "(array([[ 5.45340699,  6.67825687],\n",
              "        [-3.79655351, -3.76342908]]),\n",
              " array([], dtype=float64),\n",
              " 2,\n",
              " array([1.44878427, 0.2857609 ]))"
            ]
          },
          "metadata": {},
          "execution_count": 36
        }
      ]
    },
    {
      "cell_type": "code",
      "source": [
        "# Pseudoinverse (least squares)\n",
        "linalg.pinv(C)"
      ],
      "metadata": {
        "colab": {
          "base_uri": "https://localhost:8080/"
        },
        "id": "zLJu2mYJ7OtT",
        "outputId": "89a42da5-94e4-4005-c9c7-684461dcd256"
      },
      "execution_count": 37,
      "outputs": [
        {
          "output_type": "execute_result",
          "data": {
            "text/plain": [
              "array([[-2. ,  1. ],\n",
              "       [ 1.5, -0.5]])"
            ]
          },
          "metadata": {},
          "execution_count": 37
        }
      ]
    },
    {
      "cell_type": "code",
      "source": [
        "# Pseudoinverse (SVD)\n",
        "linalg.pinv2(C)"
      ],
      "metadata": {
        "colab": {
          "base_uri": "https://localhost:8080/"
        },
        "id": "vHi6mpMj7T5U",
        "outputId": "285c4e2d-6f8c-4fc7-d536-1ef344b07a36"
      },
      "execution_count": 38,
      "outputs": [
        {
          "output_type": "execute_result",
          "data": {
            "text/plain": [
              "array([[-2. ,  1. ],\n",
              "       [ 1.5, -0.5]])"
            ]
          },
          "metadata": {},
          "execution_count": 38
        }
      ]
    },
    {
      "cell_type": "code",
      "source": [
        "# Dot product\n",
        "np.dot(A, C)"
      ],
      "metadata": {
        "colab": {
          "base_uri": "https://localhost:8080/"
        },
        "id": "CxG0gHO29SxG",
        "outputId": "197b4748-17ec-48aa-eb02-8730f79f0025"
      },
      "execution_count": 57,
      "outputs": [
        {
          "output_type": "execute_result",
          "data": {
            "text/plain": [
              "matrix([[3.41872595, 5.08680435],\n",
              "        [1.91115445, 3.08585148]])"
            ]
          },
          "metadata": {},
          "execution_count": 57
        }
      ]
    },
    {
      "cell_type": "code",
      "source": [
        "# Inner product\n",
        "np.inner(A, C)"
      ],
      "metadata": {
        "colab": {
          "base_uri": "https://localhost:8080/"
        },
        "id": "rcGGXNM59ZBH",
        "outputId": "5b667c2e-f4f9-4cab-cc8f-7783962beb8d"
      },
      "execution_count": 58,
      "outputs": [
        {
          "output_type": "execute_result",
          "data": {
            "text/plain": [
              "matrix([[2.54340217, 5.87955896],\n",
              "        [1.54292574, 3.89231981]])"
            ]
          },
          "metadata": {},
          "execution_count": 58
        }
      ]
    },
    {
      "cell_type": "code",
      "source": [
        "# Outer product\n",
        "np.outer(A, C)"
      ],
      "metadata": {
        "colab": {
          "base_uri": "https://localhost:8080/"
        },
        "id": "lVuYbN7-9c1f",
        "outputId": "25e63e76-72c4-472a-de25-3e8a4c37b491"
      },
      "execution_count": 59,
      "outputs": [
        {
          "output_type": "execute_result",
          "data": {
            "text/plain": [
              "array([[0.79275462, 1.58550923, 2.37826385, 3.17101846],\n",
              "       [0.87532378, 1.75064756, 2.62597134, 3.50129511],\n",
              "       [0.80646832, 1.61293665, 2.41940497, 3.2258733 ],\n",
              "       [0.36822871, 0.73645742, 1.10468613, 1.47291483]])"
            ]
          },
          "metadata": {},
          "execution_count": 59
        }
      ]
    },
    {
      "cell_type": "code",
      "source": [
        "# Tensor dot product\n",
        "t1 = np.random.random((2, 2, 2))\n",
        "t2 = np.random.random((2, 2, 2))\n",
        "np.tensordot(t1, t2)"
      ],
      "metadata": {
        "colab": {
          "base_uri": "https://localhost:8080/"
        },
        "id": "2bXl3xaJ9f1K",
        "outputId": "12dfae59-00be-4683-e8ac-69c12fae71db"
      },
      "execution_count": 60,
      "outputs": [
        {
          "output_type": "execute_result",
          "data": {
            "text/plain": [
              "array([[0.50094249, 1.196836  ],\n",
              "       [0.18347575, 0.75211667]])"
            ]
          },
          "metadata": {},
          "execution_count": 60
        }
      ]
    },
    {
      "cell_type": "code",
      "source": [
        "# Kronecker product\n",
        "np.kron(A, C)"
      ],
      "metadata": {
        "colab": {
          "base_uri": "https://localhost:8080/"
        },
        "id": "zSHtN6YF9s_3",
        "outputId": "2ff973ee-b89f-4c4a-e43f-bd3e02743168"
      },
      "execution_count": 61,
      "outputs": [
        {
          "output_type": "execute_result",
          "data": {
            "text/plain": [
              "matrix([[0.79275462, 1.58550923, 0.87532378, 1.75064756],\n",
              "        [2.37826385, 3.17101846, 2.62597134, 3.50129511],\n",
              "        [0.80646832, 1.61293665, 0.36822871, 0.73645742],\n",
              "        [2.41940497, 3.2258733 , 1.10468613, 1.47291483]])"
            ]
          },
          "metadata": {},
          "execution_count": 61
        }
      ]
    },
    {
      "cell_type": "code",
      "source": [
        "# Matrix exponential\n",
        "linalg.expm(A)"
      ],
      "metadata": {
        "colab": {
          "base_uri": "https://localhost:8080/"
        },
        "id": "eQqh9UiV9xtj",
        "outputId": "1d16267a-1fce-4b03-975b-f914c5c57068"
      },
      "execution_count": 71,
      "outputs": [
        {
          "output_type": "execute_result",
          "data": {
            "text/plain": [
              "array([[2.92952309, 1.76738542],\n",
              "       [1.62835787, 2.07235353]])"
            ]
          },
          "metadata": {},
          "execution_count": 71
        }
      ]
    },
    {
      "cell_type": "code",
      "source": [
        "# Matrix log\n",
        "linalg.logm(A)"
      ],
      "metadata": {
        "colab": {
          "base_uri": "https://localhost:8080/"
        },
        "id": "jLWF7VRM9_YZ",
        "outputId": "4c05ba45-752f-4b63-eba4-c2e09745ff44"
      },
      "execution_count": 72,
      "outputs": [
        {
          "output_type": "execute_result",
          "data": {
            "text/plain": [
              "array([[-0.24241656+1.1860443j ,  0.81865502-1.58662919j],\n",
              "       [ 0.75425729-1.46182044j, -0.63945851+1.95554835j]])"
            ]
          },
          "metadata": {},
          "execution_count": 72
        }
      ]
    },
    {
      "cell_type": "code",
      "source": [
        "# Matrix sine\n",
        "linalg.sinm(C)"
      ],
      "metadata": {
        "colab": {
          "base_uri": "https://localhost:8080/"
        },
        "id": "I65BGauJ-RvY",
        "outputId": "7568ba04-64be-4624-81dc-7de79835fd40"
      },
      "execution_count": 73,
      "outputs": [
        {
          "output_type": "execute_result",
          "data": {
            "text/plain": [
              "array([[-0.46558149, -0.14842446],\n",
              "       [-0.22263669, -0.68821818]])"
            ]
          },
          "metadata": {},
          "execution_count": 73
        }
      ]
    },
    {
      "cell_type": "code",
      "source": [
        "# Hyperbolic matrix sine\n",
        "linalg.sinhm(C)"
      ],
      "metadata": {
        "colab": {
          "base_uri": "https://localhost:8080/"
        },
        "id": "F2eei02o-WuF",
        "outputId": "69d5fb17-a93f-459e-8d56-01b2fd657519"
      },
      "execution_count": 74,
      "outputs": [
        {
          "output_type": "execute_result",
          "data": {
            "text/plain": [
              "array([[25.4317178 , 37.62006779],\n",
              "       [56.43010168, 81.86181949]])"
            ]
          },
          "metadata": {},
          "execution_count": 74
        }
      ]
    },
    {
      "cell_type": "code",
      "source": [
        "# Matrix square root\n",
        "linalg.sqrtm(A)"
      ],
      "metadata": {
        "colab": {
          "base_uri": "https://localhost:8080/"
        },
        "id": "rku_RYiY-h8h",
        "outputId": "7705a097-33d1-4b64-d22d-7f5fef35d6c3"
      },
      "execution_count": 77,
      "outputs": [
        {
          "output_type": "execute_result",
          "data": {
            "text/plain": [
              "array([[0.74879865+0.20193329j, 0.60753588-0.270136j  ],\n",
              "       [0.55974539-0.24888633j, 0.454148  +0.33294736j]])"
            ]
          },
          "metadata": {},
          "execution_count": 77
        }
      ]
    },
    {
      "cell_type": "code",
      "source": [
        "# Arbitrary matrix functions\n",
        "linalg.funm(A, lambda x: x+1)"
      ],
      "metadata": {
        "colab": {
          "base_uri": "https://localhost:8080/"
        },
        "id": "iFmuaqw9-m3S",
        "outputId": "ab9e139a-84c8-43d4-e193-af0558616e20"
      },
      "execution_count": 81,
      "outputs": [
        {
          "output_type": "execute_result",
          "data": {
            "text/plain": [
              "array([[1.79275462, 0.87532378],\n",
              "       [0.80646832, 1.36822871]])"
            ]
          },
          "metadata": {},
          "execution_count": 81
        }
      ]
    },
    {
      "cell_type": "code",
      "source": [
        "# Orthogonal Procrustes\n",
        "linalg.orthogonal_procrustes(A, C)"
      ],
      "metadata": {
        "colab": {
          "base_uri": "https://localhost:8080/"
        },
        "id": "SjHp8MtA-2Rw",
        "outputId": "a1dbacd4-4876-40a5-949a-d6fd1a3c9e09"
      },
      "execution_count": 82,
      "outputs": [
        {
          "output_type": "execute_result",
          "data": {
            "text/plain": [
              "(array([[ 0.91533312,  0.4026975 ],\n",
              "        [-0.4026975 ,  0.91533312]]), 7.031016169830095)"
            ]
          },
          "metadata": {},
          "execution_count": 82
        }
      ]
    },
    {
      "cell_type": "markdown",
      "source": [
        "## Sparse matrices"
      ],
      "metadata": {
        "id": "-_BjerShXANk"
      }
    },
    {
      "cell_type": "code",
      "source": [
        "# Identity matrix\n",
        "I = np.eye(3)\n",
        "I"
      ],
      "metadata": {
        "colab": {
          "base_uri": "https://localhost:8080/"
        },
        "id": "U1d3Fd5R8EN6",
        "outputId": "3d89704e-1e96-4e0b-9493-85b7f55595b9"
      },
      "execution_count": 40,
      "outputs": [
        {
          "output_type": "execute_result",
          "data": {
            "text/plain": [
              "array([[1., 0., 0.],\n",
              "       [0., 1., 0.],\n",
              "       [0., 0., 1.]])"
            ]
          },
          "metadata": {},
          "execution_count": 40
        }
      ]
    },
    {
      "cell_type": "code",
      "source": [
        "# Compressed sparse row matrix\n",
        "sparse.csr_matrix(I)"
      ],
      "metadata": {
        "colab": {
          "base_uri": "https://localhost:8080/"
        },
        "id": "PwT7SoQM8LSP",
        "outputId": "b0d12f7d-5e3e-4872-cfd6-0b9b8be16917"
      },
      "execution_count": 45,
      "outputs": [
        {
          "output_type": "execute_result",
          "data": {
            "text/plain": [
              "<3x3 sparse matrix of type '<class 'numpy.float64'>'\n",
              "\twith 3 stored elements in Compressed Sparse Row format>"
            ]
          },
          "metadata": {},
          "execution_count": 45
        }
      ]
    },
    {
      "cell_type": "code",
      "source": [
        "# Compressed sparse column matrix\n",
        "sparse.csc_matrix(I)"
      ],
      "metadata": {
        "colab": {
          "base_uri": "https://localhost:8080/"
        },
        "id": "O6nnD1h68bdr",
        "outputId": "c1b005cb-fdee-4cf6-ccdb-22a486a93a62"
      },
      "execution_count": 46,
      "outputs": [
        {
          "output_type": "execute_result",
          "data": {
            "text/plain": [
              "<3x3 sparse matrix of type '<class 'numpy.float64'>'\n",
              "\twith 3 stored elements in Compressed Sparse Column format>"
            ]
          },
          "metadata": {},
          "execution_count": 46
        }
      ]
    },
    {
      "cell_type": "code",
      "source": [
        "# Dictionary of keys matrix\n",
        "J = sparse.dok_matrix(A)"
      ],
      "metadata": {
        "id": "cUtjOeZ48fof"
      },
      "execution_count": 48,
      "outputs": []
    },
    {
      "cell_type": "code",
      "source": [
        "# Sparse matrix to dense matrix\n",
        "J.todense()"
      ],
      "metadata": {
        "colab": {
          "base_uri": "https://localhost:8080/"
        },
        "id": "0nL_HkoK8kKL",
        "outputId": "ddd14e13-5816-4bf0-ab24-4f858369f8ec"
      },
      "execution_count": 49,
      "outputs": [
        {
          "output_type": "execute_result",
          "data": {
            "text/plain": [
              "matrix([[0.79275462, 0.87532378],\n",
              "        [0.80646832, 0.36822871]])"
            ]
          },
          "metadata": {},
          "execution_count": 49
        }
      ]
    },
    {
      "cell_type": "markdown",
      "source": [
        "## Sparse matrix operations"
      ],
      "metadata": {
        "id": "XrtQXF7-XAQF"
      }
    },
    {
      "cell_type": "code",
      "source": [
        "from scipy.sparse import linalg as sp_linalg"
      ],
      "metadata": {
        "id": "M5rEYCci83N6"
      },
      "execution_count": 66,
      "outputs": []
    },
    {
      "cell_type": "code",
      "source": [
        "# Inverse\n",
        "sp_linalg.inv(sparse.csc_matrix(I))"
      ],
      "metadata": {
        "colab": {
          "base_uri": "https://localhost:8080/"
        },
        "id": "Fa0SE67U8yKW",
        "outputId": "2547e362-e023-460d-d14c-2f71f0223916"
      },
      "execution_count": 68,
      "outputs": [
        {
          "output_type": "execute_result",
          "data": {
            "text/plain": [
              "<3x3 sparse matrix of type '<class 'numpy.float64'>'\n",
              "\twith 3 stored elements in Compressed Sparse Column format>"
            ]
          },
          "metadata": {},
          "execution_count": 68
        }
      ]
    },
    {
      "cell_type": "code",
      "source": [
        "# Norm\n",
        "sp_linalg.norm(sparse.csc_matrix(I))"
      ],
      "metadata": {
        "colab": {
          "base_uri": "https://localhost:8080/"
        },
        "id": "CrvD2Q5F9BlA",
        "outputId": "ca9c68af-288d-48b5-ab48-b850fdf375ae"
      },
      "execution_count": 69,
      "outputs": [
        {
          "output_type": "execute_result",
          "data": {
            "text/plain": [
              "1.7320508075688772"
            ]
          },
          "metadata": {},
          "execution_count": 69
        }
      ]
    },
    {
      "cell_type": "markdown",
      "source": [
        "## Decompositions"
      ],
      "metadata": {
        "id": "e2AT2YncXASH"
      }
    },
    {
      "cell_type": "code",
      "source": [
        "# Eigenvalue decomposition\n",
        "la, v = linalg.eig(A)"
      ],
      "metadata": {
        "id": "EfkC9_tp-9od"
      },
      "execution_count": 84,
      "outputs": []
    },
    {
      "cell_type": "code",
      "source": [
        "# Unpack eigenvalues\n",
        "l1, l2 = la"
      ],
      "metadata": {
        "id": "p0Qi9sKU_S5N"
      },
      "execution_count": 85,
      "outputs": []
    },
    {
      "cell_type": "code",
      "source": [
        "# Access eigenvectors\n",
        "v[:,0]"
      ],
      "metadata": {
        "colab": {
          "base_uri": "https://localhost:8080/"
        },
        "id": "A3dv_onk_WIB",
        "outputId": "d7918cea-8b9c-4a74-c326-69675aaaf6b9"
      },
      "execution_count": 86,
      "outputs": [
        {
          "output_type": "execute_result",
          "data": {
            "text/plain": [
              "array([0.80095069, 0.59873032])"
            ]
          },
          "metadata": {},
          "execution_count": 86
        }
      ]
    },
    {
      "cell_type": "code",
      "source": [
        "# Unpack eigenvalues\n",
        "linalg.eigvals(A)"
      ],
      "metadata": {
        "colab": {
          "base_uri": "https://localhost:8080/"
        },
        "id": "RJwcZkEU_bUD",
        "outputId": "bcfea96f-39a6-4afd-cd1f-590d560488d7"
      },
      "execution_count": 87,
      "outputs": [
        {
          "output_type": "execute_result",
          "data": {
            "text/plain": [
              "array([ 1.44708064+0.j, -0.28609732+0.j])"
            ]
          },
          "metadata": {},
          "execution_count": 87
        }
      ]
    },
    {
      "cell_type": "code",
      "source": [
        "# SVD\n",
        "U, s, Vh = linalg.svd(B)\n",
        "U.shape, s.shape, Vh.shape, B.shape"
      ],
      "metadata": {
        "colab": {
          "base_uri": "https://localhost:8080/"
        },
        "id": "UTMcY9Oy_huH",
        "outputId": "f21ac9a0-f5fc-4129-ba5f-e0b13224a1f1"
      },
      "execution_count": 90,
      "outputs": [
        {
          "output_type": "execute_result",
          "data": {
            "text/plain": [
              "((10, 10), (5,), (5, 5), (10, 5))"
            ]
          },
          "metadata": {},
          "execution_count": 90
        }
      ]
    },
    {
      "cell_type": "code",
      "source": [
        "# Construct sigma matrix associated to SVD\n",
        "M,N = B.shape\n",
        "S = linalg.diagsvd(s, M, N)\n",
        "S"
      ],
      "metadata": {
        "colab": {
          "base_uri": "https://localhost:8080/"
        },
        "id": "5Jy1Mmwt_kq5",
        "outputId": "d2e262a9-2b9f-43b3-8ab1-6ba1234aa053"
      },
      "execution_count": 91,
      "outputs": [
        {
          "output_type": "execute_result",
          "data": {
            "text/plain": [
              "array([[3.76623759, 0.        , 0.        , 0.        , 0.        ],\n",
              "       [0.        , 1.30250561, 0.        , 0.        , 0.        ],\n",
              "       [0.        , 0.        , 0.81053874, 0.        , 0.        ],\n",
              "       [0.        , 0.        , 0.        , 0.76253153, 0.        ],\n",
              "       [0.        , 0.        , 0.        , 0.        , 0.64255997],\n",
              "       [0.        , 0.        , 0.        , 0.        , 0.        ],\n",
              "       [0.        , 0.        , 0.        , 0.        , 0.        ],\n",
              "       [0.        , 0.        , 0.        , 0.        , 0.        ],\n",
              "       [0.        , 0.        , 0.        , 0.        , 0.        ],\n",
              "       [0.        , 0.        , 0.        , 0.        , 0.        ]])"
            ]
          },
          "metadata": {},
          "execution_count": 91
        }
      ]
    },
    {
      "cell_type": "markdown",
      "source": [
        "## Misc operations"
      ],
      "metadata": {
        "id": "359QrnVE31kb"
      }
    },
    {
      "cell_type": "code",
      "source": [
        "# Polynomial creation\n",
        "p = np.poly1d([1, 2, 3])\n",
        "p"
      ],
      "metadata": {
        "colab": {
          "base_uri": "https://localhost:8080/"
        },
        "id": "IcIi67OB33J1",
        "outputId": "f4d8bb64-1f51-4ca6-e8a7-157b0699f7e0"
      },
      "execution_count": 12,
      "outputs": [
        {
          "output_type": "execute_result",
          "data": {
            "text/plain": [
              "poly1d([1, 2, 3])"
            ]
          },
          "metadata": {},
          "execution_count": 12
        }
      ]
    },
    {
      "cell_type": "code",
      "source": [
        "# Vectorize a function\n",
        "def f(x):\n",
        "  if x < 0:\n",
        "    return x**2\n",
        "  else:\n",
        "    return np.sqrt(x)\n",
        "f_vec = np.vectorize(f)\n",
        "f_vec(10)==f(10)"
      ],
      "metadata": {
        "colab": {
          "base_uri": "https://localhost:8080/"
        },
        "id": "MDwoTasa4D4c",
        "outputId": "75a6ee92-4399-4bc3-c5d7-4c8fe24b8356"
      },
      "execution_count": 13,
      "outputs": [
        {
          "output_type": "execute_result",
          "data": {
            "text/plain": [
              "True"
            ]
          },
          "metadata": {},
          "execution_count": 13
        }
      ]
    },
    {
      "cell_type": "code",
      "source": [
        "# Factorial\n",
        "special.factorial(5)"
      ],
      "metadata": {
        "colab": {
          "base_uri": "https://localhost:8080/"
        },
        "id": "d14CMEtG4Q4C",
        "outputId": "5aaab21c-2ee0-495e-fa9c-8868cfe9a5dc"
      },
      "execution_count": 16,
      "outputs": [
        {
          "output_type": "execute_result",
          "data": {
            "text/plain": [
              "120.0"
            ]
          },
          "metadata": {},
          "execution_count": 16
        }
      ]
    },
    {
      "cell_type": "code",
      "source": [
        "# n-th derivative of a function at a point\n",
        "def continuousFunc(x):\n",
        "  return 3*(x**2)\n",
        "misc.derivative(continuousFunc, 5)"
      ],
      "metadata": {
        "colab": {
          "base_uri": "https://localhost:8080/"
        },
        "id": "oBVNsGFG4lM8",
        "outputId": "5c98c7c9-ce74-4f11-8350-3a47331f254f"
      },
      "execution_count": 17,
      "outputs": [
        {
          "output_type": "execute_result",
          "data": {
            "text/plain": [
              "30.0"
            ]
          },
          "metadata": {},
          "execution_count": 17
        }
      ]
    }
  ]
}